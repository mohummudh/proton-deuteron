{
 "cells": [
  {
   "cell_type": "markdown",
   "id": "b2ae5714",
   "metadata": {},
   "source": [
    "Using an CNN Autoencoder to cluster column maxes for each track, to cluster together protons + deuterons and noise. \n",
    "\n",
    "Data created in **padded_data.ipynb** which uses data created in **clusters_data.ipynb**."
   ]
  },
  {
   "cell_type": "code",
   "execution_count": 1,
   "id": "7b5a33a1",
   "metadata": {},
   "outputs": [],
   "source": [
    "import torch\n",
    "import torch.nn as nn\n",
    "import torch.optim as optim\n",
    "\n",
    "import numpy as np"
   ]
  },
  {
   "cell_type": "code",
   "execution_count": 2,
   "id": "82c9aa19",
   "metadata": {},
   "outputs": [],
   "source": [
    "PATH_ALL = \"/Users/user/data/research/proton-deuteron/csv/padded_max_adc_columns.npy\"\n",
    "PROTONS = '/Users/user/data/research/proton-deuteron/csv/padded_protons.npy'\n",
    "DEUTERONS = '/Users/user/data/research/proton-deuteron/csv/padded_deuterons.npy'"
   ]
  },
  {
   "cell_type": "code",
   "execution_count": 3,
   "id": "70e55622",
   "metadata": {},
   "outputs": [],
   "source": [
    "# threshold: 15 ADC, for making clusters of connected pixels.\n",
    "# then, max ADC of each wire in cluster is recorded only in a 1D matrix.\n",
    "# then this array is padded with zeros on either side, with original wire coordinates preserved.\n",
    "# cut: wire lengths > 10 only, mixed collection, induction, proton, deuteron candidates.\n",
    "# full data, pre-training/testing split. \n",
    "# 1D data, (1x240), 70922 total data points (16097 proton candidates, 54825 deuterons candidates), collection, induction mixed.   \n",
    "\n",
    "padded_protons = np.load(PROTONS) \n",
    "padded_deuterons = np.load(DEUTERONS)"
   ]
  },
  {
   "cell_type": "markdown",
   "id": "88c5dc8b",
   "metadata": {},
   "source": [
    "# CNN Autoencoder. \n",
    "\n",
    "Uses CNNs as encoder and decoder. "
   ]
  },
  {
   "cell_type": "code",
   "execution_count": null,
   "id": "230cf84f",
   "metadata": {},
   "outputs": [],
   "source": []
  },
  {
   "cell_type": "code",
   "execution_count": null,
   "id": "2af7f337",
   "metadata": {},
   "outputs": [],
   "source": []
  }
 ],
 "metadata": {
  "kernelspec": {
   "display_name": ".venv",
   "language": "python",
   "name": "python3"
  },
  "language_info": {
   "codemirror_mode": {
    "name": "ipython",
    "version": 3
   },
   "file_extension": ".py",
   "mimetype": "text/x-python",
   "name": "python",
   "nbconvert_exporter": "python",
   "pygments_lexer": "ipython3",
   "version": "3.11.9"
  }
 },
 "nbformat": 4,
 "nbformat_minor": 5
}
