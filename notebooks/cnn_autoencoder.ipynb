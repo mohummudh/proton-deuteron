{
 "cells": [
  {
   "cell_type": "markdown",
   "id": "d0719aa0",
   "metadata": {},
   "source": [
    "Using a 1D CNN Autoencoder to cluster column maxes for each track, to cluster together protons + deuterons and noise. \n",
    "\n",
    "Data created in **padded_data.ipynb** which uses data created in **clusters_data.ipynb**.\n"
   ]
  },
  {
   "cell_type": "code",
   "execution_count": 2,
   "id": "dca1a118",
   "metadata": {},
   "outputs": [],
   "source": [
    "import numpy as np"
   ]
  },
  {
   "cell_type": "code",
   "execution_count": 3,
   "id": "9cf928d1",
   "metadata": {},
   "outputs": [],
   "source": [
    "PATH_ALL = \"/Users/user/data/research/proton-deuteron/csv/padded_max_adc_columns.npy\"\n",
    "PROTONS = '/Users/user/data/research/proton-deuteron/csv/padded_protons.npy'\n",
    "DEUTERONS = '/Users/user/data/research/proton-deuteron/csv/padded_deuterons.npy'"
   ]
  },
  {
   "cell_type": "code",
   "execution_count": 11,
   "id": "4ea53e5f",
   "metadata": {},
   "outputs": [],
   "source": [
    "# threshold: 15 ADC, for making clusters of connected pixels.\n",
    "# then, max ADC of each wire in cluster is recorded only in a 1D matrix.\n",
    "# then this array is padded with zeros on either side, with original wire coordinates preserved.\n",
    "# cut: wire lengths > 10 only, mixed collection, induction, proton, deuteron candidates.\n",
    "# full data, pre-training/testing split. \n",
    "# 1D data, (1x240), 70922 total data points (16097 proton candidates, 54825 deuterons candidates), collection, induction mixed.   \n",
    "\n",
    "padded_protons = np.load(PROTONS) \n",
    "padded_deuterons = np.load(DEUTERONS)"
   ]
  },
  {
   "cell_type": "code",
   "execution_count": null,
   "id": "47a40d94",
   "metadata": {},
   "outputs": [],
   "source": []
  }
 ],
 "metadata": {
  "kernelspec": {
   "display_name": ".venv",
   "language": "python",
   "name": "python3"
  },
  "language_info": {
   "codemirror_mode": {
    "name": "ipython",
    "version": 3
   },
   "file_extension": ".py",
   "mimetype": "text/x-python",
   "name": "python",
   "nbconvert_exporter": "python",
   "pygments_lexer": "ipython3",
   "version": "3.11.9"
  }
 },
 "nbformat": 4,
 "nbformat_minor": 5
}
