{
 "cells": [
  {
   "cell_type": "code",
   "execution_count": 1,
   "metadata": {},
   "outputs": [],
   "source": [
    "import os\n",
    "import numpy as np\n",
    "import pandas as pd\n",
    "import matplotlib.pyplot as plt"
   ]
  },
  {
   "cell_type": "code",
   "execution_count": 2,
   "metadata": {},
   "outputs": [],
   "source": [
    "df_0 = pd.read_csv(\"/Users/mohammed/Desktop/Machine Learning/PhD Projects/data/csv/run.csv\", nrows=1000)"
   ]
  },
  {
   "cell_type": "code",
   "execution_count": 3,
   "metadata": {},
   "outputs": [
    {
     "data": {
      "text/html": [
       "<div>\n",
       "<style scoped>\n",
       "    .dataframe tbody tr th:only-of-type {\n",
       "        vertical-align: middle;\n",
       "    }\n",
       "\n",
       "    .dataframe tbody tr th {\n",
       "        vertical-align: top;\n",
       "    }\n",
       "\n",
       "    .dataframe thead th {\n",
       "        text-align: right;\n",
       "    }\n",
       "</style>\n",
       "<table border=\"1\" class=\"dataframe\">\n",
       "  <thead>\n",
       "    <tr style=\"text-align: right;\">\n",
       "      <th></th>\n",
       "      <th>run</th>\n",
       "      <th>subrun</th>\n",
       "      <th>eventtype</th>\n",
       "      <th>incint</th>\n",
       "      <th>negativeke</th>\n",
       "      <th>positionxtpc</th>\n",
       "      <th>positionytpc</th>\n",
       "      <th>positionztpc</th>\n",
       "      <th>decayatrest</th>\n",
       "      <th>beamline_mass</th>\n",
       "      <th>...</th>\n",
       "      <th>tof</th>\n",
       "      <th>trklength</th>\n",
       "      <th>trkendx</th>\n",
       "      <th>trkendy</th>\n",
       "      <th>trkendz</th>\n",
       "      <th>residualrange</th>\n",
       "      <th>trkdedx</th>\n",
       "      <th>ntrkcalopts</th>\n",
       "      <th>nslice</th>\n",
       "      <th>cke</th>\n",
       "    </tr>\n",
       "  </thead>\n",
       "  <tbody>\n",
       "    <tr>\n",
       "      <th>0</th>\n",
       "      <td>8675</td>\n",
       "      <td>12</td>\n",
       "      <td>m</td>\n",
       "      <td>f</td>\n",
       "      <td>n</td>\n",
       "      <td>0.00</td>\n",
       "      <td>0.00</td>\n",
       "      <td>0.00</td>\n",
       "      <td>n</td>\n",
       "      <td>1082.48</td>\n",
       "      <td>...</td>\n",
       "      <td>35.19</td>\n",
       "      <td>31.54</td>\n",
       "      <td>24.11</td>\n",
       "      <td>4.03</td>\n",
       "      <td>35.1</td>\n",
       "      <td>0.00</td>\n",
       "      <td>0.00</td>\n",
       "      <td>69</td>\n",
       "      <td>0</td>\n",
       "      <td>286.72</td>\n",
       "    </tr>\n",
       "    <tr>\n",
       "      <th>1</th>\n",
       "      <td>8675</td>\n",
       "      <td>12</td>\n",
       "      <td>m</td>\n",
       "      <td>c</td>\n",
       "      <td>n</td>\n",
       "      <td>24.77</td>\n",
       "      <td>3.06</td>\n",
       "      <td>4.04</td>\n",
       "      <td>n</td>\n",
       "      <td>1082.48</td>\n",
       "      <td>...</td>\n",
       "      <td>35.19</td>\n",
       "      <td>31.54</td>\n",
       "      <td>24.11</td>\n",
       "      <td>4.03</td>\n",
       "      <td>35.1</td>\n",
       "      <td>0.22</td>\n",
       "      <td>1.46</td>\n",
       "      <td>69</td>\n",
       "      <td>1</td>\n",
       "      <td>286.05</td>\n",
       "    </tr>\n",
       "    <tr>\n",
       "      <th>2</th>\n",
       "      <td>8675</td>\n",
       "      <td>12</td>\n",
       "      <td>m</td>\n",
       "      <td>c</td>\n",
       "      <td>n</td>\n",
       "      <td>24.76</td>\n",
       "      <td>3.08</td>\n",
       "      <td>4.49</td>\n",
       "      <td>n</td>\n",
       "      <td>1082.48</td>\n",
       "      <td>...</td>\n",
       "      <td>35.19</td>\n",
       "      <td>31.54</td>\n",
       "      <td>24.11</td>\n",
       "      <td>4.03</td>\n",
       "      <td>35.1</td>\n",
       "      <td>0.67</td>\n",
       "      <td>17.19</td>\n",
       "      <td>69</td>\n",
       "      <td>2</td>\n",
       "      <td>278.19</td>\n",
       "    </tr>\n",
       "    <tr>\n",
       "      <th>3</th>\n",
       "      <td>8675</td>\n",
       "      <td>12</td>\n",
       "      <td>m</td>\n",
       "      <td>c</td>\n",
       "      <td>n</td>\n",
       "      <td>24.75</td>\n",
       "      <td>3.09</td>\n",
       "      <td>4.95</td>\n",
       "      <td>n</td>\n",
       "      <td>1082.48</td>\n",
       "      <td>...</td>\n",
       "      <td>35.19</td>\n",
       "      <td>31.54</td>\n",
       "      <td>24.11</td>\n",
       "      <td>4.03</td>\n",
       "      <td>35.1</td>\n",
       "      <td>1.12</td>\n",
       "      <td>31.09</td>\n",
       "      <td>69</td>\n",
       "      <td>3</td>\n",
       "      <td>263.98</td>\n",
       "    </tr>\n",
       "    <tr>\n",
       "      <th>4</th>\n",
       "      <td>8675</td>\n",
       "      <td>12</td>\n",
       "      <td>m</td>\n",
       "      <td>c</td>\n",
       "      <td>n</td>\n",
       "      <td>24.74</td>\n",
       "      <td>3.11</td>\n",
       "      <td>5.41</td>\n",
       "      <td>n</td>\n",
       "      <td>1082.48</td>\n",
       "      <td>...</td>\n",
       "      <td>35.19</td>\n",
       "      <td>31.54</td>\n",
       "      <td>24.11</td>\n",
       "      <td>4.03</td>\n",
       "      <td>35.1</td>\n",
       "      <td>1.57</td>\n",
       "      <td>25.80</td>\n",
       "      <td>69</td>\n",
       "      <td>4</td>\n",
       "      <td>252.19</td>\n",
       "    </tr>\n",
       "  </tbody>\n",
       "</table>\n",
       "<p>5 rows × 21 columns</p>\n",
       "</div>"
      ],
      "text/plain": [
       "    run   subrun  eventtype  incint  negativeke   positionxtpc   positionytpc  \\\n",
       "0  8675       12          m       f           n           0.00           0.00   \n",
       "1  8675       12          m       c           n          24.77           3.06   \n",
       "2  8675       12          m       c           n          24.76           3.08   \n",
       "3  8675       12          m       c           n          24.75           3.09   \n",
       "4  8675       12          m       c           n          24.74           3.11   \n",
       "\n",
       "    positionztpc  decayatrest   beamline_mass  ...    tof   trklength  \\\n",
       "0           0.00            n         1082.48  ...  35.19       31.54   \n",
       "1           4.04            n         1082.48  ...  35.19       31.54   \n",
       "2           4.49            n         1082.48  ...  35.19       31.54   \n",
       "3           4.95            n         1082.48  ...  35.19       31.54   \n",
       "4           5.41            n         1082.48  ...  35.19       31.54   \n",
       "\n",
       "    trkendx   trkendy   trkendz   residualrange   trkdedx   ntrkcalopts  \\\n",
       "0     24.11      4.03      35.1            0.00      0.00            69   \n",
       "1     24.11      4.03      35.1            0.22      1.46            69   \n",
       "2     24.11      4.03      35.1            0.67     17.19            69   \n",
       "3     24.11      4.03      35.1            1.12     31.09            69   \n",
       "4     24.11      4.03      35.1            1.57     25.80            69   \n",
       "\n",
       "    nslice     cke  \n",
       "0        0  286.72  \n",
       "1        1  286.05  \n",
       "2        2  278.19  \n",
       "3        3  263.98  \n",
       "4        4  252.19  \n",
       "\n",
       "[5 rows x 21 columns]"
      ]
     },
     "execution_count": 3,
     "metadata": {},
     "output_type": "execute_result"
    }
   ],
   "source": [
    "df_0.head()"
   ]
  },
  {
   "cell_type": "code",
   "execution_count": 4,
   "metadata": {},
   "outputs": [
    {
     "data": {
      "text/plain": [
       "Index(['run', ' subrun', ' eventtype', ' incint', ' negativeke',\n",
       "       ' positionxtpc', ' positionytpc', ' positionztpc', ' decayatrest',\n",
       "       ' beamline_mass', ' wctrkmomentum', ' tof', ' trklength', ' trkendx',\n",
       "       ' trkendy', ' trkendz', ' residualrange', ' trkdedx', ' ntrkcalopts',\n",
       "       ' nslice', ' cke'],\n",
       "      dtype='object')"
      ]
     },
     "execution_count": 4,
     "metadata": {},
     "output_type": "execute_result"
    }
   ],
   "source": [
    "df_0.columns"
   ]
  },
  {
   "cell_type": "code",
   "execution_count": 5,
   "metadata": {},
   "outputs": [],
   "source": [
    "df = pd.read_csv(\"/Users/mohammed/Desktop/Machine Learning/PhD Projects/data/csv/run.csv\", usecols=[0,1,2,9])"
   ]
  },
  {
   "cell_type": "code",
   "execution_count": 6,
   "metadata": {},
   "outputs": [
    {
     "data": {
      "text/plain": [
       "Index(['run', ' subrun', ' eventtype', ' beamline_mass'], dtype='object')"
      ]
     },
     "execution_count": 6,
     "metadata": {},
     "output_type": "execute_result"
    }
   ],
   "source": [
    "df.columns"
   ]
  },
  {
   "cell_type": "code",
   "execution_count": 7,
   "metadata": {},
   "outputs": [
    {
     "data": {
      "text/html": [
       "<div>\n",
       "<style scoped>\n",
       "    .dataframe tbody tr th:only-of-type {\n",
       "        vertical-align: middle;\n",
       "    }\n",
       "\n",
       "    .dataframe tbody tr th {\n",
       "        vertical-align: top;\n",
       "    }\n",
       "\n",
       "    .dataframe thead th {\n",
       "        text-align: right;\n",
       "    }\n",
       "</style>\n",
       "<table border=\"1\" class=\"dataframe\">\n",
       "  <thead>\n",
       "    <tr style=\"text-align: right;\">\n",
       "      <th></th>\n",
       "      <th>run</th>\n",
       "      <th>subrun</th>\n",
       "      <th>eventtype</th>\n",
       "      <th>beamline_mass</th>\n",
       "    </tr>\n",
       "  </thead>\n",
       "  <tbody>\n",
       "    <tr>\n",
       "      <th>0</th>\n",
       "      <td>8675</td>\n",
       "      <td>12</td>\n",
       "      <td>m</td>\n",
       "      <td>1082.48</td>\n",
       "    </tr>\n",
       "    <tr>\n",
       "      <th>1</th>\n",
       "      <td>8675</td>\n",
       "      <td>12</td>\n",
       "      <td>m</td>\n",
       "      <td>1082.48</td>\n",
       "    </tr>\n",
       "    <tr>\n",
       "      <th>2</th>\n",
       "      <td>8675</td>\n",
       "      <td>12</td>\n",
       "      <td>m</td>\n",
       "      <td>1082.48</td>\n",
       "    </tr>\n",
       "    <tr>\n",
       "      <th>3</th>\n",
       "      <td>8675</td>\n",
       "      <td>12</td>\n",
       "      <td>m</td>\n",
       "      <td>1082.48</td>\n",
       "    </tr>\n",
       "    <tr>\n",
       "      <th>4</th>\n",
       "      <td>8675</td>\n",
       "      <td>12</td>\n",
       "      <td>m</td>\n",
       "      <td>1082.48</td>\n",
       "    </tr>\n",
       "    <tr>\n",
       "      <th>...</th>\n",
       "      <td>...</td>\n",
       "      <td>...</td>\n",
       "      <td>...</td>\n",
       "      <td>...</td>\n",
       "    </tr>\n",
       "    <tr>\n",
       "      <th>3627</th>\n",
       "      <td>8675</td>\n",
       "      <td>12</td>\n",
       "      <td>NaN</td>\n",
       "      <td>204.53</td>\n",
       "    </tr>\n",
       "    <tr>\n",
       "      <th>3628</th>\n",
       "      <td>8675</td>\n",
       "      <td>12</td>\n",
       "      <td>NaN</td>\n",
       "      <td>204.53</td>\n",
       "    </tr>\n",
       "    <tr>\n",
       "      <th>3629</th>\n",
       "      <td>8675</td>\n",
       "      <td>12</td>\n",
       "      <td>NaN</td>\n",
       "      <td>204.53</td>\n",
       "    </tr>\n",
       "    <tr>\n",
       "      <th>3630</th>\n",
       "      <td>8675</td>\n",
       "      <td>12</td>\n",
       "      <td>NaN</td>\n",
       "      <td>204.53</td>\n",
       "    </tr>\n",
       "    <tr>\n",
       "      <th>3631</th>\n",
       "      <td>8675</td>\n",
       "      <td>12</td>\n",
       "      <td>NaN</td>\n",
       "      <td>204.53</td>\n",
       "    </tr>\n",
       "  </tbody>\n",
       "</table>\n",
       "<p>3632 rows × 4 columns</p>\n",
       "</div>"
      ],
      "text/plain": [
       "       run   subrun  eventtype   beamline_mass\n",
       "0     8675       12          m         1082.48\n",
       "1     8675       12          m         1082.48\n",
       "2     8675       12          m         1082.48\n",
       "3     8675       12          m         1082.48\n",
       "4     8675       12          m         1082.48\n",
       "...    ...      ...        ...             ...\n",
       "3627  8675       12        NaN          204.53\n",
       "3628  8675       12        NaN          204.53\n",
       "3629  8675       12        NaN          204.53\n",
       "3630  8675       12        NaN          204.53\n",
       "3631  8675       12        NaN          204.53\n",
       "\n",
       "[3632 rows x 4 columns]"
      ]
     },
     "execution_count": 7,
     "metadata": {},
     "output_type": "execute_result"
    }
   ],
   "source": [
    "pd.reset_option('display.max_rows')\n",
    "df[(df['run'] == 8675) & (df[' subrun'] == 12)]"
   ]
  },
  {
   "cell_type": "code",
   "execution_count": 8,
   "metadata": {},
   "outputs": [
    {
     "data": {
      "text/plain": [
       "33"
      ]
     },
     "execution_count": 8,
     "metadata": {},
     "output_type": "execute_result"
    }
   ],
   "source": [
    "df[(df['run'] == 8675) & (df[' subrun'] == 12)][' beamline_mass'].nunique()"
   ]
  },
  {
   "cell_type": "code",
   "execution_count": 11,
   "metadata": {},
   "outputs": [],
   "source": [
    "beamlinemass = df[(df[' beamline_mass'] > 500)][' beamline_mass']"
   ]
  },
  {
   "cell_type": "code",
   "execution_count": 10,
   "metadata": {},
   "outputs": [
    {
     "data": {
      "image/png": "[encoded data removed]",
      "text/plain": [
       "<Figure size 800x700 with 1 Axes>"
      ]
     },
     "metadata": {},
     "output_type": "display_data"
    }
   ],
   "source": [
    "plt.figure(figsize=(8, 7))  # Create a figure with specified size\n",
    "\n",
    "plt.hist(\n",
    "    beamlinemass,  # Data to plot\n",
    "    bins=1000,  # Number of bins\n",
    "    color='orange',  # Bar color\n",
    "    range=(500, 5000),  # Adjusted range to fit the filtered values\n",
    "    alpha=0.5,  # Transparency of the bars\n",
    "    label='Mass selection'  # Label for the data\n",
    ")\n",
    "\n",
    "# Customize tick parameters for better visualization\n",
    "plt.tick_params(axis='x', labelsize=16, pad=8)\n",
    "plt.tick_params(axis='y', labelsize=16)\n",
    "\n",
    "# Label axes\n",
    "plt.xlabel('Beamline Mass [$MeV$]', fontsize=20)\n",
    "plt.ylabel('Frequency', fontsize=20)  # Added y-axis label for clarity\n",
    "\n",
    "# Add a title\n",
    "plt.title('Beamline Mass Selection (>650 MeV)', fontsize=16)\n",
    "\n",
    "# Add a legend\n",
    "plt.legend()\n",
    "\n",
    "# Show the plot\n",
    "plt.show()"
   ]
  },
  {
   "cell_type": "code",
   "execution_count": null,
   "metadata": {},
   "outputs": [],
   "source": []
  },
  {
   "cell_type": "code",
   "execution_count": null,
   "metadata": {},
   "outputs": [],
   "source": []
  },
  {
   "cell_type": "code",
   "execution_count": null,
   "metadata": {},
   "outputs": [],
   "source": []
  },
  {
   "cell_type": "code",
   "execution_count": null,
   "metadata": {},
   "outputs": [],
   "source": []
  }
 ],
 "metadata": {
  "kernelspec": {
   "display_name": "Python 3 (ipykernel)",
   "language": "python",
   "name": "python3"
  },
  "language_info": {
   "codemirror_mode": {
    "name": "ipython",
    "version": 3
   },
   "file_extension": ".py",
   "mimetype": "text/x-python",
   "name": "python",
   "nbconvert_exporter": "python",
   "pygments_lexer": "ipython3",
   "version": "3.9.18"
  }
 },
 "nbformat": 4,
 "nbformat_minor": 2
}
