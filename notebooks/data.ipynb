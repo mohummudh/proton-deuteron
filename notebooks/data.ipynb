{
 "cells": [
  {
   "cell_type": "code",
   "execution_count": 62,
   "id": "55be59d0",
   "metadata": {},
   "outputs": [],
   "source": [
    "import uproot\n",
    "\n",
    "import numpy as np\n",
    "import pandas as pd"
   ]
  },
  {
   "cell_type": "code",
   "execution_count": 66,
   "id": "0b1fd598",
   "metadata": {},
   "outputs": [],
   "source": [
    "CSV = \"/Users/user/data/research/proton-deuteron/bruno/csv/run.csv\"\n",
    "ANATREE = \"/Users/user/data/research/proton-deuteron/bruno/root/MergedAnaTree_Run2_Beam_Pos100A_2022_01.root\"\n",
    "RECO = \"/Users/user/data/research/proton-deuteron/recoproton/reco/75235436_47/lariat_digit_r009480_sr0269_20160613T080850_evtsel_1_Reco_20250311T182758.root\"\n",
    "RAW = \"/Users/user/data/research/proton-deuteron/rawprotons/proton_extracted_root/extracted_lariat_digit_r009482_sr0270_20160613T083519_evtsel_1.root\""
   ]
  },
  {
   "cell_type": "markdown",
   "id": "85a1dd24",
   "metadata": {},
   "source": [
    "# CSV"
   ]
  },
  {
   "cell_type": "code",
   "execution_count": 67,
   "id": "4d7232fd",
   "metadata": {},
   "outputs": [],
   "source": [
    "csv = pd.read_csv(CSV)"
   ]
  },
  {
   "cell_type": "code",
   "execution_count": 65,
   "id": "7169abc3",
   "metadata": {},
   "outputs": [
    {
     "data": {
      "text/plain": [
       "Index(['run', ' subrun', ' event', ' nslice', ' trktype', ' beamline_mass',\n",
       "       ' wctrkmomentum', ' tof', ' ntrkcalopts', ' trkdedx', ' cke', ' incint',\n",
       "       ' trklength', ' trkendx', ' trkendy', ' trkendz', ' residualrange',\n",
       "       ' positio0tpc', ' positionytpc', ' positionztpc', ' decayatrest',\n",
       "       ' negativeke'],\n",
       "      dtype='object')"
      ]
     },
     "execution_count": 65,
     "metadata": {},
     "output_type": "execute_result"
    }
   ],
   "source": [
    "csv.columns"
   ]
  },
  {
   "cell_type": "markdown",
   "id": "8a793365",
   "metadata": {},
   "source": [
    "# ANATREE"
   ]
  },
  {
   "cell_type": "code",
   "execution_count": 5,
   "id": "10512c5a",
   "metadata": {},
   "outputs": [
    {
     "data": {
      "text/plain": [
       "(['anatree;1', 'anatree/anatree;883', 'anatree/anatree;882'],\n",
       " {'anatree;1': 'TDirectory',\n",
       "  'anatree/anatree;883': 'TTree',\n",
       "  'anatree/anatree;882': 'TTree'})"
      ]
     },
     "execution_count": 5,
     "metadata": {},
     "output_type": "execute_result"
    }
   ],
   "source": [
    "anatree = uproot.open(ANATREE)\n",
    "anatree.keys(), anatree.classnames()"
   ]
  },
  {
   "cell_type": "code",
   "execution_count": 6,
   "id": "8f82da3f",
   "metadata": {},
   "outputs": [
    {
     "data": {
      "text/plain": [
       "['run',\n",
       " 'subrun',\n",
       " 'event',\n",
       " 'evttime',\n",
       " 'efield',\n",
       " 'lifetime',\n",
       " 't0',\n",
       " 'nclus',\n",
       " 'clustertwire',\n",
       " 'clusterttick',\n",
       " 'cluendwire',\n",
       " 'cluendtick',\n",
       " 'cluplane',\n",
       " 'ntracks_reco',\n",
       " 'trkvtxx',\n",
       " 'trkvtxy',\n",
       " 'trkvtxz',\n",
       " 'trkendx',\n",
       " 'trkendy',\n",
       " 'trkendz',\n",
       " 'trkstartdcosx',\n",
       " 'trkstartdcosy',\n",
       " 'trkstartdcosz',\n",
       " 'trkenddcosx',\n",
       " 'trkenddcosy',\n",
       " 'trkenddcosz',\n",
       " 'trkWCtoTPCMatch',\n",
       " 'trklength',\n",
       " 'trkg4id',\n",
       " 'primarytrkkey',\n",
       " 'ntrkcalopts',\n",
       " 'trkpida',\n",
       " 'trkke',\n",
       " 'trkdedx',\n",
       " 'trkdqdx',\n",
       " 'trkrr',\n",
       " 'trkpitch',\n",
       " 'trkxyz',\n",
       " 'nhits',\n",
       " 'hit_plane',\n",
       " 'hit_wire',\n",
       " 'hit_channel',\n",
       " 'hit_peakT',\n",
       " 'hit_driftT',\n",
       " 'hit_charge',\n",
       " 'hit_electrons',\n",
       " 'hit_ph',\n",
       " 'hit_rms',\n",
       " 'hit_g4id',\n",
       " 'hit_g4frac',\n",
       " 'hit_g4nelec',\n",
       " 'hit_g4energy',\n",
       " 'hit_tstart',\n",
       " 'hit_tend',\n",
       " 'hit_trkid',\n",
       " 'hit_dQds',\n",
       " 'hit_dEds',\n",
       " 'hit_ds',\n",
       " 'hit_resrange',\n",
       " 'hit_x',\n",
       " 'hit_y',\n",
       " 'hit_z',\n",
       " 'beamline_mass',\n",
       " 'nwctrks',\n",
       " 'wctrk_XFaceCoor',\n",
       " 'wctrk_YFaceCoor',\n",
       " 'wctrk_theta',\n",
       " 'wctrk_phi',\n",
       " 'wctrk_momentum',\n",
       " 'wctrk_Px',\n",
       " 'wctrk_Py',\n",
       " 'wctrk_Pz',\n",
       " 'wctrk_residual',\n",
       " 'wctrk_wcmissed',\n",
       " 'wctrk_picky',\n",
       " 'wctrk_WC1XMult',\n",
       " 'wctrk_WC1YMult',\n",
       " 'wctrk_WC2XMult',\n",
       " 'wctrk_WC2YMult',\n",
       " 'wctrk_WC3XMult',\n",
       " 'wctrk_WC3YMult',\n",
       " 'wctrk_WC4XMult',\n",
       " 'wctrk_WC4YMult',\n",
       " 'wctrk_XDist',\n",
       " 'wctrk_YDist',\n",
       " 'wctrk_ZDist',\n",
       " 'wctrk_YKink',\n",
       " 'ntof',\n",
       " 'tof',\n",
       " 'tof_timestamp',\n",
       " 'maxTrackIDE',\n",
       " 'IDEEnergy',\n",
       " 'IDEPos',\n",
       " 'no_primaries',\n",
       " 'geant_list_size',\n",
       " 'pdg',\n",
       " 'Mass',\n",
       " 'Eng',\n",
       " 'Px',\n",
       " 'Py',\n",
       " 'Pz',\n",
       " 'EndEng',\n",
       " 'EndPx',\n",
       " 'EndPy',\n",
       " 'EndPz',\n",
       " 'StartPointx',\n",
       " 'StartPointy',\n",
       " 'StartPointz',\n",
       " 'EndPointx',\n",
       " 'EndPointy',\n",
       " 'EndPointz',\n",
       " 'StartT',\n",
       " 'EndT',\n",
       " 'PathLenInTpcAV',\n",
       " 'StartInTpcAV',\n",
       " 'EndInTpcAV',\n",
       " 'Process',\n",
       " 'NumberDaughters',\n",
       " 'Mother',\n",
       " 'TrackId',\n",
       " 'process_primary',\n",
       " 'G4Process',\n",
       " 'G4FinalProcess']"
      ]
     },
     "execution_count": 6,
     "metadata": {},
     "output_type": "execute_result"
    }
   ],
   "source": [
    "tree = anatree['anatree/anatree']\n",
    "tree.keys()"
   ]
  },
  {
   "cell_type": "code",
   "execution_count": 7,
   "id": "4a3e31e5",
   "metadata": {},
   "outputs": [
    {
     "name": "stdout",
     "output_type": "stream",
     "text": [
      "name                 | typename                 | interpretation                \n",
      "---------------------+--------------------------+-------------------------------\n",
      "run                  | int32_t                  | AsDtype('>i4')\n",
      "subrun               | int32_t                  | AsDtype('>i4')\n",
      "event                | int32_t                  | AsDtype('>i4')\n",
      "evttime              | double                   | AsDtype('>f8')\n",
      "efield               | float                    | AsDtype('>f4')\n",
      "lifetime             | float                    | AsDtype('>f4')\n",
      "t0                   | int32_t                  | AsDtype('>i4')\n",
      "nclus                | int32_t                  | AsDtype('>i4')\n",
      "clustertwire         | float[]                  | AsJagged(AsDtype('>f4'))\n",
      "clusterttick         | float[]                  | AsJagged(AsDtype('>f4'))\n",
      "cluendwire           | float[]                  | AsJagged(AsDtype('>f4'))\n",
      "cluendtick           | float[]                  | AsJagged(AsDtype('>f4'))\n",
      "cluplane             | int32_t[]                | AsJagged(AsDtype('>i4'))\n",
      "ntracks_reco         | int32_t                  | AsDtype('>i4')\n",
      "trkvtxx              | float[]                  | AsJagged(AsDtype('>f4'))\n",
      "trkvtxy              | float[]                  | AsJagged(AsDtype('>f4'))\n",
      "trkvtxz              | float[]                  | AsJagged(AsDtype('>f4'))\n",
      "trkendx              | float[]                  | AsJagged(AsDtype('>f4'))\n",
      "trkendy              | float[]                  | AsJagged(AsDtype('>f4'))\n",
      "trkendz              | float[]                  | AsJagged(AsDtype('>f4'))\n",
      "trkstartdcosx        | float[]                  | AsJagged(AsDtype('>f4'))\n",
      "trkstartdcosy        | float[]                  | AsJagged(AsDtype('>f4'))\n",
      "trkstartdcosz        | float[]                  | AsJagged(AsDtype('>f4'))\n",
      "trkenddcosx          | float[]                  | AsJagged(AsDtype('>f4'))\n",
      "trkenddcosy          | float[]                  | AsJagged(AsDtype('>f4'))\n",
      "trkenddcosz          | float[]                  | AsJagged(AsDtype('>f4'))\n",
      "trkWCtoTPCMatch      | int32_t[]                | AsJagged(AsDtype('>i4'))\n",
      "trklength            | float[]                  | AsJagged(AsDtype('>f4'))\n",
      "trkg4id              | int32_t[]                | AsJagged(AsDtype('>i4'))\n",
      "primarytrkkey        | int32_t                  | AsDtype('>i4')\n",
      "ntrkcalopts          | int32_t[][2]             | AsJagged(AsDtype(\"('>i4', (...\n",
      "trkpida              | float[][2]               | AsJagged(AsDtype(\"('>f4', (...\n",
      "trkke                | float[][2]               | AsJagged(AsDtype(\"('>f4', (...\n",
      "trkdedx              | float[][2][1000]         | AsJagged(AsDtype(\"('>f4', (...\n",
      "trkdqdx              | float[][2][1000]         | AsJagged(AsDtype(\"('>f4', (...\n",
      "trkrr                | float[][2][1000]         | AsJagged(AsDtype(\"('>f4', (...\n",
      "trkpitch             | float[][2][1000]         | AsJagged(AsDtype(\"('>f4', (...\n",
      "trkxyz               | float[][2][1000][3]      | AsJagged(AsDtype(\"('>f4', (...\n",
      "nhits                | int32_t                  | AsDtype('>i4')\n",
      "hit_plane            | int32_t[]                | AsJagged(AsDtype('>i4'))\n",
      "hit_wire             | int32_t[]                | AsJagged(AsDtype('>i4'))\n",
      "hit_channel          | int32_t[]                | AsJagged(AsDtype('>i4'))\n",
      "hit_peakT            | float[]                  | AsJagged(AsDtype('>f4'))\n",
      "hit_driftT           | float[]                  | AsJagged(AsDtype('>f4'))\n",
      "hit_charge           | float[]                  | AsJagged(AsDtype('>f4'))\n",
      "hit_electrons        | float[]                  | AsJagged(AsDtype('>f4'))\n",
      "hit_ph               | float[]                  | AsJagged(AsDtype('>f4'))\n",
      "hit_rms              | float[]                  | AsJagged(AsDtype('>f4'))\n",
      "hit_g4id             | int32_t[]                | AsJagged(AsDtype('>i4'))\n",
      "hit_g4frac           | float[]                  | AsJagged(AsDtype('>f4'))\n",
      "hit_g4nelec          | float[]                  | AsJagged(AsDtype('>f4'))\n",
      "hit_g4energy         | float[]                  | AsJagged(AsDtype('>f4'))\n",
      "hit_tstart           | float[]                  | AsJagged(AsDtype('>f4'))\n",
      "hit_tend             | float[]                  | AsJagged(AsDtype('>f4'))\n",
      "hit_trkid            | int32_t[]                | AsJagged(AsDtype('>i4'))\n",
      "hit_dQds             | float[]                  | AsJagged(AsDtype('>f4'))\n",
      "hit_dEds             | float[]                  | AsJagged(AsDtype('>f4'))\n",
      "hit_ds               | float[]                  | AsJagged(AsDtype('>f4'))\n",
      "hit_resrange         | float[]                  | AsJagged(AsDtype('>f4'))\n",
      "hit_x                | float[]                  | AsJagged(AsDtype('>f4'))\n",
      "hit_y                | float[]                  | AsJagged(AsDtype('>f4'))\n",
      "hit_z                | float[]                  | AsJagged(AsDtype('>f4'))\n",
      "beamline_mass        | float                    | AsDtype('>f4')\n",
      "nwctrks              | int32_t                  | AsDtype('>i4')\n",
      "wctrk_XFaceCoor      | float[]                  | AsJagged(AsDtype('>f4'))\n",
      "wctrk_YFaceCoor      | float[]                  | AsJagged(AsDtype('>f4'))\n",
      "wctrk_theta          | float[]                  | AsJagged(AsDtype('>f4'))\n",
      "wctrk_phi            | float[]                  | AsJagged(AsDtype('>f4'))\n",
      "wctrk_momentum       | float[]                  | AsJagged(AsDtype('>f4'))\n",
      "wctrk_Px             | float[]                  | AsJagged(AsDtype('>f4'))\n",
      "wctrk_Py             | float[]                  | AsJagged(AsDtype('>f4'))\n",
      "wctrk_Pz             | float[]                  | AsJagged(AsDtype('>f4'))\n",
      "wctrk_residual       | float[]                  | AsJagged(AsDtype('>f4'))\n",
      "wctrk_wcmissed       | int32_t[]                | AsJagged(AsDtype('>i4'))\n",
      "wctrk_picky          | int32_t[]                | AsJagged(AsDtype('>i4'))\n",
      "wctrk_WC1XMult       | int32_t[]                | AsJagged(AsDtype('>i4'))\n",
      "wctrk_WC1YMult       | int32_t[]                | AsJagged(AsDtype('>i4'))\n",
      "wctrk_WC2XMult       | int32_t[]                | AsJagged(AsDtype('>i4'))\n",
      "wctrk_WC2YMult       | int32_t[]                | AsJagged(AsDtype('>i4'))\n",
      "wctrk_WC3XMult       | int32_t[]                | AsJagged(AsDtype('>i4'))\n",
      "wctrk_WC3YMult       | int32_t[]                | AsJagged(AsDtype('>i4'))\n",
      "wctrk_WC4XMult       | int32_t[]                | AsJagged(AsDtype('>i4'))\n",
      "wctrk_WC4YMult       | int32_t[]                | AsJagged(AsDtype('>i4'))\n",
      "wctrk_XDist          | float[]                  | AsJagged(AsDtype('>f4'))\n",
      "wctrk_YDist          | float[]                  | AsJagged(AsDtype('>f4'))\n",
      "wctrk_ZDist          | float[]                  | AsJagged(AsDtype('>f4'))\n",
      "wctrk_YKink          | float[]                  | AsJagged(AsDtype('>f4'))\n",
      "ntof                 | int32_t                  | AsDtype('>i4')\n",
      "tof                  | float[]                  | AsJagged(AsDtype('>f4'))\n",
      "tof_timestamp        | float[]                  | AsJagged(AsDtype('>f4'))\n",
      "maxTrackIDE          | int32_t                  | AsDtype('>i4')\n",
      "IDEEnergy            | float[]                  | AsJagged(AsDtype('>f4'))\n",
      "IDEPos               | float[][3]               | AsJagged(AsDtype(\"('>f4', (...\n",
      "no_primaries         | int32_t                  | AsDtype('>i4')\n",
      "geant_list_size      | int32_t                  | AsDtype('>i4')\n",
      "pdg                  | int32_t[]                | AsJagged(AsDtype('>i4'))\n",
      "Mass                 | float[]                  | AsJagged(AsDtype('>f4'))\n",
      "Eng                  | float[]                  | AsJagged(AsDtype('>f4'))\n",
      "Px                   | float[]                  | AsJagged(AsDtype('>f4'))\n",
      "Py                   | float[]                  | AsJagged(AsDtype('>f4'))\n",
      "Pz                   | float[]                  | AsJagged(AsDtype('>f4'))\n",
      "EndEng               | float[]                  | AsJagged(AsDtype('>f4'))\n",
      "EndPx                | float[]                  | AsJagged(AsDtype('>f4'))\n",
      "EndPy                | float[]                  | AsJagged(AsDtype('>f4'))\n",
      "EndPz                | float[]                  | AsJagged(AsDtype('>f4'))\n",
      "StartPointx          | float[]                  | AsJagged(AsDtype('>f4'))\n",
      "StartPointy          | float[]                  | AsJagged(AsDtype('>f4'))\n",
      "StartPointz          | float[]                  | AsJagged(AsDtype('>f4'))\n",
      "EndPointx            | float[]                  | AsJagged(AsDtype('>f4'))\n",
      "EndPointy            | float[]                  | AsJagged(AsDtype('>f4'))\n",
      "EndPointz            | float[]                  | AsJagged(AsDtype('>f4'))\n",
      "StartT               | float[]                  | AsJagged(AsDtype('>f4'))\n",
      "EndT                 | float[]                  | AsJagged(AsDtype('>f4'))\n",
      "PathLenInTpcAV       | float[]                  | AsJagged(AsDtype('>f4'))\n",
      "StartInTpcAV         | bool[]                   | AsJagged(AsDtype('bool'))\n",
      "EndInTpcAV           | bool[]                   | AsJagged(AsDtype('bool'))\n",
      "Process              | int32_t[]                | AsJagged(AsDtype('>i4'))\n",
      "NumberDaughters      | int32_t[]                | AsJagged(AsDtype('>i4'))\n",
      "Mother               | int32_t[]                | AsJagged(AsDtype('>i4'))\n",
      "TrackId              | int32_t[]                | AsJagged(AsDtype('>i4'))\n",
      "process_primary      | int32_t[]                | AsJagged(AsDtype('>i4'))\n",
      "G4Process            | std::vector<std::string> | AsObjects(AsVector(True, As...\n",
      "G4FinalProcess       | std::vector<std::string> | AsObjects(AsVector(True, As...\n"
     ]
    }
   ],
   "source": [
    "tree.show()"
   ]
  },
  {
   "cell_type": "code",
   "execution_count": 8,
   "id": "1cf6e928",
   "metadata": {},
   "outputs": [
    {
     "data": {
      "text/plain": [
       "array([array([3.5821757], dtype=float32),\n",
       "       array([ 1.9958979, 21.629667 , 52.524895 , 12.953415 , 57.39073  ,\n",
       "              77.68185  , 74.15722  , 33.68319  , 30.989206 , 43.915573 ,\n",
       "              64.36788  , 77.58126  , 48.78939  , 28.496572 , 20.359123 ,\n",
       "              12.487426 , 79.51538  , 54.25654  , 45.3554   , 73.14404  ,\n",
       "              19.51431  , 44.221092 , 72.864044 ], dtype=float32)        ,\n",
       "       array([5.032116 , 3.5723794], dtype=float32), ...,\n",
       "       array([ 3.5649245,  3.877226 ,  3.3830006, 23.726118 ], dtype=float32),\n",
       "       array([3.212946 , 3.5840027], dtype=float32),\n",
       "       array([ 3.5172124,  3.40767  , 34.42115  , 21.788465 , 30.733494 ,\n",
       "              27.39992  , 77.6668   ], dtype=float32)                    ],\n",
       "      shape=(580638,), dtype=object)"
      ]
     },
     "execution_count": 8,
     "metadata": {},
     "output_type": "execute_result"
    }
   ],
   "source": [
    "trkvtxz = tree[\"trkvtxz\"]\n",
    "np.array(trkvtxz)"
   ]
  },
  {
   "cell_type": "markdown",
   "id": "423ef1ce",
   "metadata": {},
   "source": [
    "# RECO"
   ]
  },
  {
   "cell_type": "code",
   "execution_count": 9,
   "id": "051f9a12",
   "metadata": {},
   "outputs": [
    {
     "data": {
      "text/plain": [
       "(['RootFileDB;1',\n",
       "  'MetaData;1',\n",
       "  'FileIndex;1',\n",
       "  'Parentage;1',\n",
       "  'EventHistory;1',\n",
       "  'Events;1',\n",
       "  'EventMetaData;1',\n",
       "  'SubRuns;1',\n",
       "  'SubRunMetaData;1',\n",
       "  'Runs;1',\n",
       "  'RunMetaData;1',\n",
       "  'ResultsTree;1',\n",
       "  'ResultsMetaData;1'],\n",
       " {'RootFileDB;1': 'TKey',\n",
       "  'MetaData;1': 'TTree',\n",
       "  'FileIndex;1': 'TTree',\n",
       "  'Parentage;1': 'TTree',\n",
       "  'EventHistory;1': 'TTree',\n",
       "  'Events;1': 'TTree',\n",
       "  'EventMetaData;1': 'TTree',\n",
       "  'SubRuns;1': 'TTree',\n",
       "  'SubRunMetaData;1': 'TTree',\n",
       "  'Runs;1': 'TTree',\n",
       "  'RunMetaData;1': 'TTree',\n",
       "  'ResultsTree;1': 'TTree',\n",
       "  'ResultsMetaData;1': 'TTree'})"
      ]
     },
     "execution_count": 9,
     "metadata": {},
     "output_type": "execute_result"
    }
   ],
   "source": [
    "reco = uproot.open(RECO)\n",
    "reco.keys(), reco.classnames()"
   ]
  },
  {
   "cell_type": "code",
   "execution_count": 32,
   "id": "2c076bb9",
   "metadata": {},
   "outputs": [
    {
     "data": {
      "text/plain": [
       "['RunAuxiliary',\n",
       " 'sumdata::RunData_daq__EventBuilderNoMerge.',\n",
       " 'sumdata::RunData_daq__EventBuilderNoMerge./sumdata::RunData_daq__EventBuilderNoMerge.present',\n",
       " 'sumdata::RunData_daq__EventBuilderNoMerge./sumdata::RunData_daq__EventBuilderNoMerge.rangeSetID',\n",
       " 'sumdata::RunData_daq__EventBuilderNoMerge./sumdata::RunData_daq__EventBuilderNoMerge.obj',\n",
       " 'sumdata::RunData_daq__EventBuilderNoMerge./sumdata::RunData_daq__EventBuilderNoMerge.obj/sumdata::RunData_daq__EventBuilderNoMerge.obj.fDetName']"
      ]
     },
     "execution_count": 32,
     "metadata": {},
     "output_type": "execute_result"
    }
   ],
   "source": [
    "metadata = reco[\"Runs\"]\n",
    "metadata.keys()"
   ]
  },
  {
   "cell_type": "markdown",
   "id": "8b954e09",
   "metadata": {},
   "source": [
    "# RAW"
   ]
  },
  {
   "cell_type": "code",
   "execution_count": 34,
   "id": "78c59137",
   "metadata": {},
   "outputs": [
    {
     "data": {
      "text/plain": [
       "(['ana;1', 'ana/raw;1'], {'ana;1': 'TDirectory', 'ana/raw;1': 'TTree'})"
      ]
     },
     "execution_count": 34,
     "metadata": {},
     "output_type": "execute_result"
    }
   ],
   "source": [
    "raw = uproot.open(RAW)\n",
    "raw.keys(), raw.classnames()"
   ]
  },
  {
   "cell_type": "code",
   "execution_count": 35,
   "id": "b5c30b9f",
   "metadata": {},
   "outputs": [
    {
     "name": "stdout",
     "output_type": "stream",
     "text": [
      "name                 | typename                 | interpretation                \n",
      "---------------------+--------------------------+-------------------------------\n",
      "run                  | int32_t                  | AsDtype('>i4')\n",
      "subrun               | int32_t                  | AsDtype('>i4')\n",
      "event                | int32_t                  | AsDtype('>i4')\n",
      "evttime              | double                   | AsDtype('>f8')\n",
      "efield               | float                    | AsDtype('>f4')\n",
      "lifetime             | float                    | AsDtype('>f4')\n",
      "t0                   | int32_t                  | AsDtype('>i4')\n",
      "raw_samples          | std::vector<uint64_t>    | AsJagged(AsDtype('>u8'), he...\n",
      "raw_pedestal         | std::vector<float>       | AsJagged(AsDtype('>f4'), he...\n",
      "raw_sigma            | std::vector<float>       | AsJagged(AsDtype('>f4'), he...\n",
      "raw_rawadc           | std::vector<int16_t>     | AsJagged(AsDtype('>i2'), he...\n",
      "raw_channel          | std::vector<uint32_t>    | AsJagged(AsDtype('>u4'), he...\n"
     ]
    }
   ],
   "source": [
    "tree = raw[\"ana/raw\"]\n",
    "tree.show()"
   ]
  },
  {
   "cell_type": "code",
   "execution_count": 58,
   "id": "9edc244b",
   "metadata": {},
   "outputs": [
    {
     "name": "stdout",
     "output_type": "stream",
     "text": [
      "[[-1, -1, -1, -1, 0, 0, 0, 0, 0, 1, ..., 0, -1, -1, -1, -1, -1, -1, -1, -1, -1]]\n"
     ]
    }
   ],
   "source": [
    "print(tree[\"raw_rawadc\"].array())"
   ]
  }
 ],
 "metadata": {
  "kernelspec": {
   "display_name": ".venv",
   "language": "python",
   "name": "python3"
  },
  "language_info": {
   "codemirror_mode": {
    "name": "ipython",
    "version": 3
   },
   "file_extension": ".py",
   "mimetype": "text/x-python",
   "name": "python",
   "nbconvert_exporter": "python",
   "pygments_lexer": "ipython3",
   "version": "3.11.9"
  }
 },
 "nbformat": 4,
 "nbformat_minor": 5
}
