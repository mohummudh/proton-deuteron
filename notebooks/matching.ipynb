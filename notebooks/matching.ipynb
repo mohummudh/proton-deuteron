{
 "cells": [
  {
   "cell_type": "markdown",
   "id": "e162e48d",
   "metadata": {},
   "source": [
    "# Matching Clusters Across Induction and Collection"
   ]
  },
  {
   "cell_type": "code",
   "execution_count": 22,
   "id": "b9d6eb8e",
   "metadata": {},
   "outputs": [],
   "source": [
    "import numpy as np\n",
    "import pandas as pd"
   ]
  },
  {
   "cell_type": "code",
   "execution_count": 23,
   "id": "d6b9b099",
   "metadata": {},
   "outputs": [
    {
     "name": "stdout",
     "output_type": "stream",
     "text": [
      "Index(['event_idx', 'run', 'subrun', 'event', 'file_path', 'event_index',\n",
      "       'particle_type', 'plane', 'cluster_idx', 'area', 'max_intensity',\n",
      "       'min_intensity', 'mean_intensity', 'total_intensity', 'centroid_x',\n",
      "       'centroid_y', 'bbox_min_row', 'bbox_min_col', 'bbox_max_row',\n",
      "       'bbox_max_col', 'width', 'height', 'aspect_ratio', 'compactness',\n",
      "       'image_intensity', 'matrix_transformed', 'column_maxes'],\n",
      "      dtype='object')\n"
     ]
    },
    {
     "data": {
      "text/plain": [
       "(438575, 27)"
      ]
     },
     "execution_count": 23,
     "metadata": {},
     "output_type": "execute_result"
    }
   ],
   "source": [
    "allclusters = pd.read_pickle(\"/Users/user/data/research/proton-deuteron/csv/allclusters.pkl\") # deuterons from within vertices bounding box + one track protons\n",
    "print(allclusters.columns); allclusters.shape"
   ]
  },
  {
   "cell_type": "code",
   "execution_count": 24,
   "id": "159460ba",
   "metadata": {},
   "outputs": [
    {
     "name": "stdout",
     "output_type": "stream",
     "text": [
      "(438575, 27)\n",
      "(105907, 27)\n",
      "(105896, 27)\n"
     ]
    }
   ],
   "source": [
    "# CUTS\n",
    "print(allclusters.shape)\n",
    "greaterThanThree = allclusters[allclusters['height'] > 3]; print(greaterThanThree.shape) # Remove all clusters with length = 1, noise\n",
    "noConstants = greaterThanThree[greaterThanThree['column_maxes'].map(lambda x: len(set(x)) > 1)]; print(noConstants.shape) # Remove all clusters where the max ADC for each wire is the same (no change in energy deposition)"
   ]
  },
  {
   "cell_type": "code",
   "execution_count": 25,
   "id": "ec781462",
   "metadata": {},
   "outputs": [
    {
     "name": "stderr",
     "output_type": "stream",
     "text": [
      "/var/folders/cm/m55y72dj6cd5lkwrfdb2bpnr0000gp/T/ipykernel_52880/1492737920.py:18: SettingWithCopyWarning: \n",
      "A value is trying to be set on a copy of a slice from a DataFrame.\n",
      "Try using .loc[row_indexer,col_indexer] = value instead\n",
      "\n",
      "See the caveats in the documentation: https://pandas.pydata.org/pandas-docs/stable/user_guide/indexing.html#returning-a-view-versus-a-copy\n",
      "  noConstants['normalised'] = normalised\n",
      "/var/folders/cm/m55y72dj6cd5lkwrfdb2bpnr0000gp/T/ipykernel_52880/1492737920.py:19: SettingWithCopyWarning: \n",
      "A value is trying to be set on a copy of a slice from a DataFrame.\n",
      "Try using .loc[row_indexer,col_indexer] = value instead\n",
      "\n",
      "See the caveats in the documentation: https://pandas.pydata.org/pandas-docs/stable/user_guide/indexing.html#returning-a-view-versus-a-copy\n",
      "  adcdiff = [np.diff(signal) for signal in normalised]; noConstants['adcdiff'] = adcdiff\n",
      "/var/folders/cm/m55y72dj6cd5lkwrfdb2bpnr0000gp/T/ipykernel_52880/1492737920.py:20: SettingWithCopyWarning: \n",
      "A value is trying to be set on a copy of a slice from a DataFrame.\n",
      "Try using .loc[row_indexer,col_indexer] = value instead\n",
      "\n",
      "See the caveats in the documentation: https://pandas.pydata.org/pandas-docs/stable/user_guide/indexing.html#returning-a-view-versus-a-copy\n",
      "  maxdiff = [np.max(diff) for diff in adcdiff]; noConstants['maxdiff'] = maxdiff\n"
     ]
    }
   ],
   "source": [
    "maxes = noConstants['column_maxes'].values\n",
    "\n",
    "normalised = []\n",
    "\n",
    "for i, signal in enumerate(maxes):\n",
    "    \n",
    "    minimum = 0\n",
    "    maximum = np.max(signal)\n",
    "\n",
    "    if maximum > minimum:\n",
    "        normalised_signal = (signal - minimum) / (maximum - minimum)\n",
    "    else:\n",
    "        normalised_signal = np.zeros_like(signal, dtype=float)\n",
    "        print(f'Error: Max not greater than min in signal {i}.')\n",
    "\n",
    "    normalised.append(normalised_signal)\n",
    "\n",
    "noConstants['normalised'] = normalised\n",
    "adcdiff = [np.diff(signal) for signal in normalised]; noConstants['adcdiff'] = adcdiff\n",
    "maxdiff = [np.max(diff) for diff in adcdiff]; noConstants['maxdiff'] = maxdiff"
   ]
  },
  {
   "cell_type": "code",
   "execution_count": 26,
   "id": "dfd8d2a5",
   "metadata": {},
   "outputs": [
    {
     "name": "stdout",
     "output_type": "stream",
     "text": [
      "(105441, 30)\n",
      "(91658, 30)\n",
      "(33701, 30)\n"
     ]
    }
   ],
   "source": [
    "# CUTS\n",
    "onlyPositiveDiff = noConstants[noConstants['maxdiff'] >= 0].reset_index(drop=True); print(onlyPositiveDiff.shape) # Remove all clusters with only negative change in energy deposition\n",
    "lessThan180 = onlyPositiveDiff[onlyPositiveDiff['height'] < 180]; print(lessThan180.shape) # Remove all clusters wit length in wire greater than 180 - muons, noise\n",
    "ADC200cut = lessThan180[lessThan180['max_intensity'] >= 200]; print(ADC200cut.shape) # Remove all clusters with max ADC less than 200, noise"
   ]
  },
  {
   "cell_type": "code",
   "execution_count": 27,
   "id": "67d041b6",
   "metadata": {},
   "outputs": [
    {
     "name": "stdout",
     "output_type": "stream",
     "text": [
      "(31607, 30)\n"
     ]
    }
   ],
   "source": [
    "# Bounding Box in Each Plane Cuts\n",
    "\n",
    "collection = (\n",
    "    (onlyPositiveDiff['plane'] == 'collection') &\n",
    "    (onlyPositiveDiff['bbox_min_row'] > 12) & (onlyPositiveDiff['bbox_min_row'] < 37) &\n",
    "    (onlyPositiveDiff['bbox_max_col'] > 789) & (onlyPositiveDiff['bbox_max_col'] < 1927)\n",
    ")\n",
    "\n",
    "# Cuts for induction plane (adjust values as needed)\n",
    "induction = (\n",
    "    (onlyPositiveDiff['plane'] == 'induction') &\n",
    "    (onlyPositiveDiff['bbox_min_row'] > 11) & (onlyPositiveDiff['bbox_min_row'] < 35) &\n",
    "    (onlyPositiveDiff['bbox_max_col'] > 786) & (onlyPositiveDiff['bbox_max_col'] < 1794)\n",
    ")\n",
    "\n",
    "# Combine both cuts\n",
    "bboxCut = onlyPositiveDiff[collection | induction].reset_index(drop=True); print(bboxCut.shape)"
   ]
  },
  {
   "cell_type": "code",
   "execution_count": null,
   "id": "c2eb5248",
   "metadata": {},
   "outputs": [],
   "source": []
  }
 ],
 "metadata": {
  "kernelspec": {
   "display_name": ".venv",
   "language": "python",
   "name": "python3"
  },
  "language_info": {
   "codemirror_mode": {
    "name": "ipython",
    "version": 3
   },
   "file_extension": ".py",
   "mimetype": "text/x-python",
   "name": "python",
   "nbconvert_exporter": "python",
   "pygments_lexer": "ipython3",
   "version": "3.11.9"
  }
 },
 "nbformat": 4,
 "nbformat_minor": 5
}
