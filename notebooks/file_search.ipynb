{
 "cells": [
  {
   "cell_type": "markdown",
   "id": "4054f92b",
   "metadata": {},
   "source": [
    "Search raw files and initial preselection of protons to see if we have all the events\n"
   ]
  },
  {
   "cell_type": "code",
   "execution_count": null,
   "id": "50eaa929",
   "metadata": {},
   "outputs": [],
   "source": []
  },
  {
   "cell_type": "code",
   "execution_count": null,
   "id": "c2394671",
   "metadata": {},
   "outputs": [],
   "source": []
  },
  {
   "cell_type": "code",
   "execution_count": null,
   "id": "01f10358",
   "metadata": {},
   "outputs": [],
   "source": []
  }
 ],
 "metadata": {
  "kernelspec": {
   "display_name": ".venv",
   "language": "python",
   "name": "python3"
  },
  "language_info": {
   "name": "python",
   "version": "3.11.9"
  }
 },
 "nbformat": 4,
 "nbformat_minor": 5
}
