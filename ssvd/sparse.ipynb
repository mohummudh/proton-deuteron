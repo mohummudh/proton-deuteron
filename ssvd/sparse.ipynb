{
 "cells": [
  {
   "cell_type": "code",
   "execution_count": 1,
   "id": "67941b42",
   "metadata": {},
   "outputs": [],
   "source": [
    "import json, os, math, random\n",
    "\n",
    "import numpy as np\n",
    "import pandas as pd\n",
    "import matplotlib.pyplot as plt\n",
    "from tqdm import tqdm\n",
    "\n",
    "import torch\n",
    "import torch.nn as nn\n",
    "import torch.nn.functional as F\n",
    "from torch.utils.data import Dataset, DataLoader"
   ]
  },
  {
   "cell_type": "code",
   "execution_count": 2,
   "id": "c2853520",
   "metadata": {},
   "outputs": [],
   "source": [
    "TRAINING = '/Users/user/data/research/proton-deuteron/ssvd/handpicked_d.pkl'"
   ]
  },
  {
   "cell_type": "markdown",
   "id": "aa1f870f",
   "metadata": {},
   "source": [
    "# TRAINING"
   ]
  },
  {
   "cell_type": "code",
   "execution_count": 20,
   "id": "264a175a",
   "metadata": {},
   "outputs": [],
   "source": [
    "IMG_H, IMG_W = 240, 3072                   # TODO: NEED TO PRESERVE A SENSE OF LENGTH PROPERLY\n",
    "TILE_H, TILE_W = 15, 192\n",
    "OCC_THRESH = 0.0\n",
    "\n",
    "BATCH_SIZE = 128\n",
    "FEAT_DIM = 128\n",
    "LR = 3e-4\n",
    "EPOCHS = 100\n",
    "WEIGHT_DECAY = 1e-4                     # Learn about\n",
    "\n",
    "PCT_THR = 90                             # PERCENTILE THRESHOLD FOR DEFINING DEUTERONS IN FEATURE SPACE\n",
    "\n",
    "SEED = 0\n",
    "\n",
    "OUT_DIR = \"artifacts\"\n",
    "os.makedirs(OUT_DIR, exist_ok=True)"
   ]
  },
  {
   "cell_type": "code",
   "execution_count": 8,
   "id": "c955283c",
   "metadata": {},
   "outputs": [],
   "source": [
    "random.seed(SEED); np.random.seed(SEED)\n",
    "torch.manual_seed(SEED); torch.cuda.manual_seed_all(SEED)\n",
    "torch.mps.manual_seed(SEED)"
   ]
  },
  {
   "cell_type": "code",
   "execution_count": 9,
   "id": "9f464e1c",
   "metadata": {},
   "outputs": [],
   "source": [
    "def pad_image(image, min_x, max_x, min_y, max_y, target_wh=(3072, 240)):\n",
    "    target_w, target_h = target_wh\n",
    "    canvas = np.zeros((target_h, target_w), dtype=image.dtype)\n",
    "\n",
    "    h, w = image.shape\n",
    "\n",
    "    y0 = max(0, min_y)\n",
    "    y1 = min(target_h, min_y + h)\n",
    "    x0 = max(0, min_x)\n",
    "    x1 = min(target_w, min_x + w)\n",
    "\n",
    "    img_y0 = max(0, -min_y)\n",
    "    img_x0 = max(0, -min_x)\n",
    "    img_y1 = img_y0 + (y1 - y0)\n",
    "    img_x1 = img_x0 + (x1 - x0)\n",
    "\n",
    "    if y0 < y1 and x0 < x1:\n",
    "        canvas[y0:y1, x0:x1] = image[img_y0:img_y1, img_x0:img_x1]\n",
    "    \n",
    "    return canvas\n",
    "\n",
    "from scipy.ndimage import zoom\n",
    "\n",
    "def downsample_image(image, target_shape=(512, 40)):\n",
    "    scale_y = target_shape[1] / image.shape[0]\n",
    "    scale_x = target_shape[0] / image.shape[1]\n",
    "    return zoom(image, (scale_y, scale_x), order=1) "
   ]
  },
  {
   "cell_type": "code",
   "execution_count": 10,
   "id": "a50a1b10",
   "metadata": {},
   "outputs": [],
   "source": [
    "class DeutTrain(Dataset):\n",
    "    def __init__(self, df, global_max_adc):\n",
    "        self.df = df.reset_index(drop=True)\n",
    "        self.gmax = float(global_max_adc)\n",
    "\n",
    "    def __len__(self):\n",
    "        return len(self.df)\n",
    "    \n",
    "    def _to_fixed(self, img):\n",
    "        # TODO: NEED TO PRESERVE A SENSE OF LENGTH PROPERLY\n",
    "        h, w, = img.shape\n",
    "        out = np.zeros((IMG_H, IMG_W), dtype=np.float32)\n",
    "        h0 = min(h, IMG_H)\n",
    "        w0 = min(w, IMG_W)\n",
    "        out[:h0, :w0] = img[:h0, :w0]\n",
    "        return out\n",
    "    \n",
    "    def __getitem__(self, i):\n",
    "        row = self.df.loc[i]\n",
    "\n",
    "        img = np.asarray(row['image_intensity'], dtype=np.float32)\n",
    "        \n",
    "        x = pad_image(\n",
    "            img,\n",
    "            int(row['bbox_min_col']),\n",
    "            int(row['bbox_max_col']),\n",
    "            int(row['bbox_min_row']),\n",
    "            int(row['bbox_max_row']),\n",
    "        )\n",
    "        \n",
    "        x = downsample_image(x, target_shape=(IMG_W, IMG_H))\n",
    "\n",
    "        ch0 = x / (self.gmax + 1e-6)\n",
    "        \n",
    "        mu, sd = float(x.mean()), float(x.std())\n",
    "        if sd < 1e-6: sd = 1e-6\n",
    "        ch1 = (x - mu) / sd\n",
    "\n",
    "        x2 = np.stack([ch0, ch1], axis=0)                                           # (2, H, W)\n",
    "\n",
    "        return torch.from_numpy(x2)"
   ]
  },
  {
   "cell_type": "code",
   "execution_count": 14,
   "id": "ba2afc60",
   "metadata": {},
   "outputs": [],
   "source": [
    "def extract_active_tiles(x, tile_h=15, tile_w=192, thresh=0.0):\n",
    "    # x: (B, C, H, W)\n",
    "    B, C, H, W = x.shape\n",
    "    gy, gx = H // tile_h, W // tile_w\n",
    "    patches = F.unfold(x, kernel_size=(tile_h, tile_w), stride=(tile_h, tile_w))  # (B, C*th*tw, gy*gx)\n",
    "    patches = patches.transpose(1, 2).contiguous()  # (B, gy*gx, C*th*tw)\n",
    "    tiles = patches.view(B, gy*gx, C, tile_h, tile_w)\n",
    "    occ = tiles.abs().sum(dim=(2, 3, 4))  # (B, gy*gx)\n",
    "    mask = occ > thresh\n",
    "    batch_ids, tile_ids = torch.nonzero(mask, as_tuple=True)\n",
    "    return tiles[batch_ids, tile_ids], batch_ids\n",
    "\n",
    "class TileSparseCNN(nn.Module):\n",
    "    \"\"\"\n",
    "    Processes only active tiles, then aggregates per-frame.\n",
    "    Output: (B, feat_dim) embedding compatible with your SVDD code.\n",
    "    \"\"\"\n",
    "    def __init__(self, in_ch=2, tile_feat=64, feat_dim=128):\n",
    "        super().__init__()\n",
    "        self.tile_net = nn.Sequential(\n",
    "            nn.Conv2d(in_ch, 32, 3, stride=2, padding=1), nn.ReLU(inplace=True),\n",
    "            nn.Conv2d(32, 64, 3, stride=2, padding=1),    nn.ReLU(inplace=True),\n",
    "            nn.AdaptiveAvgPool2d(1),\n",
    "        )\n",
    "        self.tile_head  = nn.Linear(64, tile_feat)\n",
    "        self.frame_head = nn.Linear(tile_feat, feat_dim)\n",
    "\n",
    "    def forward(self, x):                        # x: (B, C, H, W)\n",
    "        tiles, batch_ids = extract_active_tiles(x)          # (N_act, C, th, tw), (N_act,)\n",
    "        t = self.tile_net(tiles).flatten(1)                 # (N_act, 64)\n",
    "        t = self.tile_head(t)                               # (N_act, tile_feat)\n",
    "\n",
    "        # aggregate to per-frame embeddings (mean over that frame's active tiles)\n",
    "        B = x.size(0)\n",
    "        frame = torch.zeros(B, t.size(1), device=x.device, dtype=t.dtype)\n",
    "        frame.index_add_(0, batch_ids, t)                   # sum per frame\n",
    "        counts = torch.bincount(batch_ids, minlength=B).clamp_min(1).unsqueeze(1)\n",
    "        frame = frame / counts\n",
    "        return self.frame_head(frame)                       # (B, feat_dim)\n"
   ]
  },
  {
   "cell_type": "code",
   "execution_count": 15,
   "id": "9e510141",
   "metadata": {},
   "outputs": [
    {
     "name": "stdout",
     "output_type": "stream",
     "text": [
      "Device: mps\n",
      "Loading training dataset: /Users/user/data/research/proton-deuteron/ssvd/handpicked_d.pkl\n",
      "Global max ADC: 2342.0\n"
     ]
    }
   ],
   "source": [
    "device = torch.device(\"mps\" if torch.backends.mps.is_available() else \"cpu\")\n",
    "print('Device:', device)\n",
    "\n",
    "print('Loading training dataset:', TRAINING)\n",
    "df = pd.read_pickle(TRAINING)\n",
    "\n",
    "global_max_adc = 2342.0                                                         # or try 1713.0 from the training data\n",
    "\n",
    "print('Global max ADC:', global_max_adc)\n",
    "\n",
    "ds = DeutTrain(df, global_max_adc)\n",
    "dl = DataLoader(ds, batch_size=BATCH_SIZE, shuffle=True, num_workers=0, pin_memory=True)\n",
    "\n",
    "model = TileSparseCNN(in_ch=2, tile_feat=64, feat_dim=FEAT_DIM).to(device)\n",
    "opt   = torch.optim.Adam(model.parameters(), lr=LR, weight_decay=WEIGHT_DECAY)"
   ]
  },
  {
   "cell_type": "code",
   "execution_count": null,
   "id": "f8019910",
   "metadata": {},
   "outputs": [
    {
     "name": "stderr",
     "output_type": "stream",
     "text": [
      "Init centre: 100%|██████████| 5/5 [00:05<00:00,  1.03s/it]\n"
     ]
    },
    {
     "name": "stdout",
     "output_type": "stream",
     "text": [
      "Epoch 001/100 loss=0.00000016\n",
      "Epoch 002/100 loss=0.00000038\n"
     ]
    }
   ],
   "source": [
    "# --- everything below stays identical ---\n",
    "model.eval()\n",
    "feats = []\n",
    "with torch.no_grad():\n",
    "    for batch in tqdm(dl, desc='Init centre'):\n",
    "        batch = batch.to(device, non_blocking=True)\n",
    "        feats.append(model(batch))\n",
    "feats = torch.cat(feats, dim=0)\n",
    "centre = feats.mean(dim=0).detach()\n",
    "\n",
    "for epoch in range(1, EPOCHS+1):\n",
    "    model.train()\n",
    "    running, n = 0.0, 0\n",
    "    for batch in dl:\n",
    "        batch = batch.to(device, non_blocking=True)\n",
    "        f = model(batch)\n",
    "        loss = ((f - centre) ** 2).mean()\n",
    "        opt.zero_grad(); loss.backward(); opt.step()\n",
    "        bs = batch.size(0); running += loss.item() * bs; n += bs\n",
    "    print(f'Epoch {epoch:03d}/{EPOCHS} loss={running/n:.8f}')"
   ]
  },
  {
   "cell_type": "code",
   "execution_count": 17,
   "id": "ffec6d19",
   "metadata": {},
   "outputs": [
    {
     "name": "stdout",
     "output_type": "stream",
     "text": [
      "Chosen threshold @ P90.0 = 0.005228\n"
     ]
    }
   ],
   "source": [
    "model.eval()\n",
    "train_dists = []\n",
    "with torch.no_grad():\n",
    "    for batch in DataLoader(ds, batch_size=BATCH_SIZE, shuffle=False):\n",
    "        batch = batch.to(device)\n",
    "        d = torch.norm(model(batch) - centre, dim=1)\n",
    "        train_dists.extend(d.cpu().numpy())\n",
    "    train_dists = np.asarray(train_dists, dtype=np.float32)\n",
    "\n",
    "    thr = float(np.percentile(train_dists, PCT_THR))\n",
    "    print(f'Chosen threshold @ P{PCT_THR:.1f} = {thr:.6f}')"
   ]
  },
  {
   "cell_type": "code",
   "execution_count": 18,
   "id": "91207910",
   "metadata": {},
   "outputs": [
    {
     "name": "stdout",
     "output_type": "stream",
     "text": [
      "Saved to artifacts\n"
     ]
    }
   ],
   "source": [
    "torch.save(model.state_dict(), os.path.join(OUT_DIR, 'svdd.pt'))\n",
    "np.save(os.path.join(OUT_DIR, 'centre.npy'), centre.detach().cpu().numpy())\n",
    "meta = {\n",
    "    'img_h': IMG_H, 'img_w': IMG_W,\n",
    "    'feat_dim': FEAT_DIM,\n",
    "    'global_max_adc': float(global_max_adc),\n",
    "    'threshold': thr,\n",
    "    'percentile': PCT_THR,\n",
    "    'seed': SEED\n",
    "}\n",
    "with open(os.path.join(OUT_DIR, 'threshold.json'), 'w') as f:\n",
    "    json.dump(meta, f, indent=2)\n",
    "print('Saved to', OUT_DIR)"
   ]
  },
  {
   "cell_type": "code",
   "execution_count": null,
   "id": "52ac9800",
   "metadata": {},
   "outputs": [],
   "source": []
  },
  {
   "cell_type": "code",
   "execution_count": null,
   "id": "bd6a74f9",
   "metadata": {},
   "outputs": [],
   "source": []
  },
  {
   "cell_type": "code",
   "execution_count": null,
   "id": "696a24a0",
   "metadata": {},
   "outputs": [],
   "source": []
  },
  {
   "cell_type": "code",
   "execution_count": 19,
   "id": "aa2d4adf",
   "metadata": {},
   "outputs": [
    {
     "data": {
      "image/png": "[encoded data removed]",
      "text/plain": [
       "<Figure size 700x400 with 1 Axes>"
      ]
     },
     "metadata": {},
     "output_type": "display_data"
    }
   ],
   "source": [
    "import numpy as np, pandas as pd, matplotlib.pyplot as plt\n",
    "\n",
    "# If df is already in memory with the column \"score\"\n",
    "scores = train_dists.astype(float)\n",
    "\n",
    "# bins = np.linspace(scores.min(), np.percentile(scores, 99.9), 200)\n",
    "\n",
    "plt.figure(figsize=(7,4))\n",
    "plt.hist(scores, bins='auto', alpha=0.8)\n",
    "plt.axvline(thr, ls=\"--\", lw=2, color='r', label='Threshold')\n",
    "plt.xlabel(\"Deep-SVDD distance\")\n",
    "plt.ylabel(\"count\")\n",
    "plt.title(\"All clusters — distance histogram\")\n",
    "plt.legend()\n",
    "plt.tight_layout(); plt.show()\n"
   ]
  },
  {
   "cell_type": "code",
   "execution_count": 436,
   "id": "d40d80be",
   "metadata": {},
   "outputs": [
    {
     "data": {
      "image/png": "[encoded data removed]",
      "text/plain": [
       "<Figure size 800x400 with 2 Axes>"
      ]
     },
     "metadata": {},
     "output_type": "display_data"
    }
   ],
   "source": [
    "i = 0                      # random.randint(0, 500)  \n",
    "x = ds[i]                 # shape: (2, H, W), on CPU\n",
    "ch0 = x[0].numpy()\n",
    "ch1 = x[1].numpy()\n",
    "\n",
    "fig, axs = plt.subplots(1, 2, figsize=(8, 4))\n",
    "\n",
    "# Channel 0: scaled absolute ADC\n",
    "axs[0].imshow(ch0, vmin=0.0, vmax=1.0)\n",
    "axs[0].set_title(\"ch0: abs ADC / global_max\")\n",
    "axs[0].axis(\"off\")\n",
    "\n",
    "# Channel 1: z-score (stretch to [0,1] for display only)\n",
    "z = ch1\n",
    "z_disp = (z - z.min()) / (z.max() - z.min() + 1e-6)\n",
    "axs[1].imshow(z_disp)\n",
    "axs[1].set_title(\"ch1: per-image z (stretched)\")\n",
    "axs[1].axis(\"off\")\n",
    "\n",
    "plt.tight_layout()\n",
    "plt.show()"
   ]
  },
  {
   "cell_type": "code",
   "execution_count": null,
   "id": "a7d3fea2",
   "metadata": {},
   "outputs": [],
   "source": []
  },
  {
   "cell_type": "code",
   "execution_count": null,
   "id": "ca690f47",
   "metadata": {},
   "outputs": [],
   "source": []
  }
 ],
 "metadata": {
  "kernelspec": {
   "display_name": ".venv",
   "language": "python",
   "name": "python3"
  },
  "language_info": {
   "codemirror_mode": {
    "name": "ipython",
    "version": 3
   },
   "file_extension": ".py",
   "mimetype": "text/x-python",
   "name": "python",
   "nbconvert_exporter": "python",
   "pygments_lexer": "ipython3",
   "version": "3.11.9"
  }
 },
 "nbformat": 4,
 "nbformat_minor": 5
}
