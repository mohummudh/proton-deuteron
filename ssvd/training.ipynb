{
 "cells": [
  {
   "cell_type": "code",
   "execution_count": 39,
   "id": "67941b42",
   "metadata": {},
   "outputs": [],
   "source": [
    "import json, os, math, random\n",
    "\n",
    "import numpy as np\n",
    "import pandas as pd\n",
    "import matplotlib.pyplot as plt\n",
    "from tqdm import tqdm\n",
    "\n",
    "import torch\n",
    "import torch.nn as nn\n",
    "import torch.nn.functional as F\n",
    "from torch.utils.data import Dataset, DataLoader"
   ]
  },
  {
   "cell_type": "code",
   "execution_count": null,
   "id": "c2853520",
   "metadata": {},
   "outputs": [],
   "source": [
    "TRAINING = '/Users/user/data/research/proton-deuteron/ssvd/handpicked_d.pkl'"
   ]
  },
  {
   "cell_type": "markdown",
   "id": "aa1f870f",
   "metadata": {},
   "source": [
    "# TRAINING"
   ]
  },
  {
   "cell_type": "code",
   "execution_count": null,
   "id": "264a175a",
   "metadata": {},
   "outputs": [],
   "source": [
    "IMG_H, IMG_W = 64, 96                   # TODO: NEED TO PRESERVE A SENSE OF LENGTH PROPERLY\n",
    "\n",
    "BATCH_SIZE = 128\n",
    "FEAT_DIM = 128\n",
    "LR = 3e-4\n",
    "EPOCHS = 50\n",
    "WEIGHT_DECAY = 1e-4                     # Learn about\n",
    "\n",
    "PCT_THR = 5                             # PERCENTILE THRESHOLD FOR DEFINING DEUTERONS IN FEATURE SPACE\n",
    "\n",
    "SEED = 0\n",
    "\n",
    "OUT_DIR = \"artifacts\"\n",
    "os.makedirs(OUT_DIR, exist_ok=True)"
   ]
  },
  {
   "cell_type": "code",
   "execution_count": 27,
   "id": "c955283c",
   "metadata": {},
   "outputs": [],
   "source": [
    "random.seed(SEED); np.random.seed(SEED)\n",
    "torch.manual_seed(SEED); torch.cuda.manual_seed_all(SEED)\n",
    "torch.mps.manual_seed(SEED)"
   ]
  },
  {
   "cell_type": "code",
   "execution_count": null,
   "id": "a50a1b10",
   "metadata": {},
   "outputs": [],
   "source": [
    "class DeutTrain(Dataset):\n",
    "    def __init__(self, df, global_max_adc):\n",
    "        self.df = df.reset_index(drop=True)\n",
    "        self.gmax = float(global_max_adc)\n",
    "\n",
    "    def __len__(self):\n",
    "        return len(self.df)\n",
    "    \n",
    "    def _to_fixed(self, img):\n",
    "        # TODO: NEED TO PRESERVE A SENSE OF LENGTH PROPERLY\n",
    "        h, w, = img.shape\n",
    "        out = np.zeros((IMG_H, IMG_W), dtype=np.float32)\n",
    "        h0 = min(h, IMG_H)\n",
    "        w0 = min(w, IMG_W)\n",
    "        out[:h0, :w0] = img[:h0, :w0]\n",
    "        return out\n",
    "    \n",
    "    def __getitem__(self, i):\n",
    "        arr = np.asarray(self.df.loc[i, 'image_intensity'], dtype=np.float32)\n",
    "        x = self._to_fixed(arr)\n",
    "\n",
    "        ch0 = x / (self.gmax + 1e-6)\n",
    "        \n",
    "        mu, sd = float(x.mean()), float(x.std())\n",
    "        if sd < 1e-6: sd = 1e-6\n",
    "        ch1 = (x - mu) / sd\n",
    "\n",
    "        x2 = np.stack([ch0, ch1], axis=0)                                           # (2, H, W)\n",
    "\n",
    "        return torch.from_numpy(x2)"
   ]
  },
  {
   "cell_type": "code",
   "execution_count": 29,
   "id": "1e0745d1",
   "metadata": {},
   "outputs": [],
   "source": [
    "class DeutNet(nn.Module):\n",
    "    def __init__(self, in_ch=2, feat_dim=FEAT_DIM):\n",
    "        super().__init__()\n",
    "        self.conv = nn.Sequential(\n",
    "            nn.Conv2d(in_ch, 16, 3, 2, 1), nn.ReLU(),\n",
    "            nn.Conv2d(16, 32, 3, 2, 1), nn.ReLU(),\n",
    "            nn.Conv2d(32, 64, 3, 2, 1), nn.ReLU(),\n",
    "        )\n",
    "        self.fc = nn.Linear(64, feat_dim)\n",
    "\n",
    "    def forward(self, x):\n",
    "        x = self.conv(x)\n",
    "        x = F.adaptive_avg_pool2d(x, 1).flatten(1)\n",
    "        return self.fc(x)"
   ]
  },
  {
   "cell_type": "code",
   "execution_count": 30,
   "id": "9e510141",
   "metadata": {},
   "outputs": [
    {
     "name": "stdout",
     "output_type": "stream",
     "text": [
      "Device: mps\n",
      "Loading training dataset: /Users/user/data/research/proton-deuteron/ssvd/handpicked_d.pkl\n",
      "Global max ADC: 2342.0\n"
     ]
    }
   ],
   "source": [
    "device = torch.device(\"mps\" if torch.backends.mps.is_available() else \"cpu\")\n",
    "print('Device:', device)\n",
    "\n",
    "print('Loading training dataset:', TRAINING)\n",
    "df = pd.read_pickle(TRAINING)\n",
    "\n",
    "global_max_adc = 2342.0                                                         # or try 1713.0 from the training data\n",
    "\n",
    "print('Global max ADC:', global_max_adc)\n",
    "\n",
    "ds = DeutTrain(df, global_max_adc)\n",
    "dl = DataLoader(ds, batch_size=BATCH_SIZE, shuffle=True, num_workers=0, pin_memory=True)\n",
    "\n",
    "model = DeutNet().to(device)\n",
    "opt   = torch.optim.Adam(model.parameters(), lr=LR, weight_decay=WEIGHT_DECAY)"
   ]
  },
  {
   "cell_type": "code",
   "execution_count": 11,
   "id": "2b3c77a8",
   "metadata": {},
   "outputs": [
    {
     "name": "stderr",
     "output_type": "stream",
     "text": [
      "Init centre:   0%|          | 0/5 [00:00<?, ?it/s]/Users/user/code/research/proton-deuteron/.venv/lib/python3.11/site-packages/torch/utils/data/dataloader.py:683: UserWarning: 'pin_memory' argument is set as true but not supported on MPS now, then device pinned memory won't be used.\n",
      "  warnings.warn(warn_msg)\n",
      "Init centre: 100%|██████████| 5/5 [00:00<00:00, 61.92it/s]\n"
     ]
    }
   ],
   "source": [
    "model.eval()\n",
    "feats = []\n",
    "with torch.no_grad():\n",
    "    for batch in tqdm(dl, desc='Init centre'):\n",
    "        batch = batch.to(device, non_blocking=True)\n",
    "        feats.append(model(batch))\n",
    "\n",
    "feats = torch.cat(feats, dim=0)\n",
    "centre = feats.mean(dim=0).detach()"
   ]
  },
  {
   "cell_type": "code",
   "execution_count": 78,
   "id": "e8065ea1",
   "metadata": {},
   "outputs": [
    {
     "name": "stderr",
     "output_type": "stream",
     "text": [
      "/Users/user/code/research/proton-deuteron/.venv/lib/python3.11/site-packages/torch/utils/data/dataloader.py:683: UserWarning: 'pin_memory' argument is set as true but not supported on MPS now, then device pinned memory won't be used.\n",
      "  warnings.warn(warn_msg)\n"
     ]
    },
    {
     "name": "stdout",
     "output_type": "stream",
     "text": [
      "Epoch 001/50 loss=0.000000\n",
      "Epoch 002/50 loss=0.000000\n",
      "Epoch 003/50 loss=0.000000\n",
      "Epoch 004/50 loss=0.000000\n",
      "Epoch 005/50 loss=0.000000\n",
      "Epoch 006/50 loss=0.000000\n",
      "Epoch 007/50 loss=0.000000\n",
      "Epoch 008/50 loss=0.000000\n",
      "Epoch 009/50 loss=0.000000\n",
      "Epoch 010/50 loss=0.000000\n",
      "Epoch 011/50 loss=0.000000\n",
      "Epoch 012/50 loss=0.000000\n",
      "Epoch 013/50 loss=0.000000\n",
      "Epoch 014/50 loss=0.000000\n",
      "Epoch 015/50 loss=0.000000\n",
      "Epoch 016/50 loss=0.000000\n",
      "Epoch 017/50 loss=0.000000\n",
      "Epoch 018/50 loss=0.000000\n",
      "Epoch 019/50 loss=0.000000\n",
      "Epoch 020/50 loss=0.000000\n",
      "Epoch 021/50 loss=0.000000\n",
      "Epoch 022/50 loss=0.000000\n",
      "Epoch 023/50 loss=0.000000\n",
      "Epoch 024/50 loss=0.000000\n",
      "Epoch 025/50 loss=0.000000\n",
      "Epoch 026/50 loss=0.000000\n",
      "Epoch 027/50 loss=0.000000\n",
      "Epoch 028/50 loss=0.000000\n",
      "Epoch 029/50 loss=0.000000\n",
      "Epoch 030/50 loss=0.000000\n",
      "Epoch 031/50 loss=0.000000\n",
      "Epoch 032/50 loss=0.000000\n",
      "Epoch 033/50 loss=0.000000\n",
      "Epoch 034/50 loss=0.000000\n",
      "Epoch 035/50 loss=0.000000\n",
      "Epoch 036/50 loss=0.000000\n",
      "Epoch 037/50 loss=0.000000\n",
      "Epoch 038/50 loss=0.000000\n",
      "Epoch 039/50 loss=0.000000\n",
      "Epoch 040/50 loss=0.000000\n",
      "Epoch 041/50 loss=0.000000\n",
      "Epoch 042/50 loss=0.000000\n",
      "Epoch 043/50 loss=0.000000\n",
      "Epoch 044/50 loss=0.000000\n",
      "Epoch 045/50 loss=0.000000\n",
      "Epoch 046/50 loss=0.000000\n",
      "Epoch 047/50 loss=0.000000\n",
      "Epoch 048/50 loss=0.000000\n",
      "Epoch 049/50 loss=0.000000\n",
      "Epoch 050/50 loss=0.000000\n"
     ]
    }
   ],
   "source": [
    "for epoch in range(1, EPOCHS+1):\n",
    "    model.train()\n",
    "    running = 0.0\n",
    "    n = 0\n",
    "    for batch in dl:\n",
    "        batch = batch.to(device, non_blocking=True)\n",
    "        f = model(batch)\n",
    "        loss = ((f - centre) ** 2).mean()\n",
    "        opt.zero_grad()\n",
    "        loss.backward()\n",
    "        opt.step()\n",
    "        bs = batch.size(0)\n",
    "        running += loss.item() * bs\n",
    "        n += bs\n",
    "    print(f'Epoch {epoch:03d}/{EPOCHS} loss={running/n:.6f}')"
   ]
  },
  {
   "cell_type": "code",
   "execution_count": 102,
   "id": "ffec6d19",
   "metadata": {},
   "outputs": [
    {
     "name": "stdout",
     "output_type": "stream",
     "text": [
      "Chosen threshold @ P5.0 = 0.001008\n"
     ]
    }
   ],
   "source": [
    "model.eval()\n",
    "train_dists = []\n",
    "with torch.no_grad():\n",
    "    for batch in DataLoader(ds, batch_size=BATCH_SIZE, shuffle=False):\n",
    "        batch = batch.to(device)\n",
    "        d = torch.norm(model(batch) - centre, dim=1)\n",
    "        train_dists.extend(d.cpu().numpy())\n",
    "    train_dists = np.asarray(train_dists, dtype=np.float32)\n",
    "\n",
    "    thr = float(np.percentile(train_dists, PCT_THR))\n",
    "    print(f'Chosen threshold @ P{PCT_THR:.1f} = {thr:.6f}')"
   ]
  },
  {
   "cell_type": "code",
   "execution_count": 103,
   "id": "91207910",
   "metadata": {},
   "outputs": [
    {
     "name": "stdout",
     "output_type": "stream",
     "text": [
      "Saved to artifacts\n"
     ]
    }
   ],
   "source": [
    "torch.save(model.state_dict(), os.path.join(OUT_DIR, 'svdd.pt'))\n",
    "np.save(os.path.join(OUT_DIR, 'centre.npy'), centre.detach().cpu().numpy())\n",
    "meta = {\n",
    "    'img_h': IMG_H, 'img_w': IMG_W,\n",
    "    'feat_dim': FEAT_DIM,\n",
    "    'global_max_adc': float(global_max_adc),\n",
    "    'threshold': thr,\n",
    "    'percentile': PCT_THR,\n",
    "    'seed': SEED\n",
    "}\n",
    "with open(os.path.join(OUT_DIR, 'threshold.json'), 'w') as f:\n",
    "    json.dump(meta, f, indent=2)\n",
    "print('Saved to', OUT_DIR)"
   ]
  },
  {
   "cell_type": "code",
   "execution_count": null,
   "id": "52ac9800",
   "metadata": {},
   "outputs": [],
   "source": []
  },
  {
   "cell_type": "code",
   "execution_count": null,
   "id": "bd6a74f9",
   "metadata": {},
   "outputs": [],
   "source": []
  },
  {
   "cell_type": "code",
   "execution_count": null,
   "id": "696a24a0",
   "metadata": {},
   "outputs": [],
   "source": []
  },
  {
   "cell_type": "code",
   "execution_count": 100,
   "id": "aa2d4adf",
   "metadata": {},
   "outputs": [
    {
     "data": {
      "image/png": "[encoded data removed]",
      "text/plain": [
       "<Figure size 700x400 with 1 Axes>"
      ]
     },
     "metadata": {},
     "output_type": "display_data"
    }
   ],
   "source": [
    "import numpy as np, pandas as pd, matplotlib.pyplot as plt\n",
    "\n",
    "# If df is already in memory with the column \"score\"\n",
    "scores = train_dists.astype(float)\n",
    "\n",
    "# bins = np.linspace(scores.min(), np.percentile(scores, 99.9), 200)\n",
    "\n",
    "plt.figure(figsize=(7,4))\n",
    "plt.hist(scores, bins='auto', alpha=0.8)\n",
    "plt.axvline(thr, ls=\"--\", lw=2, color='r', label='Threshold')\n",
    "plt.xlabel(\"Deep-SVDD distance\")\n",
    "plt.ylabel(\"count\")\n",
    "plt.title(\"All clusters — distance histogram\")\n",
    "plt.legend()\n",
    "plt.tight_layout(); plt.show()\n"
   ]
  },
  {
   "cell_type": "code",
   "execution_count": 41,
   "id": "d40d80be",
   "metadata": {},
   "outputs": [
    {
     "data": {
      "image/png": "[encoded data removed]",
      "text/plain": [
       "<Figure size 800x400 with 2 Axes>"
      ]
     },
     "metadata": {},
     "output_type": "display_data"
    }
   ],
   "source": [
    "i = 120  \n",
    "x = ds[i]                 # shape: (2, H, W), on CPU\n",
    "ch0 = x[0].numpy()\n",
    "ch1 = x[1].numpy()\n",
    "\n",
    "fig, axs = plt.subplots(1, 2, figsize=(8, 4))\n",
    "\n",
    "# Channel 0: scaled absolute ADC\n",
    "axs[0].imshow(ch0, vmin=0.0, vmax=1.0)\n",
    "axs[0].set_title(\"ch0: abs ADC / global_max\")\n",
    "axs[0].axis(\"off\")\n",
    "\n",
    "# Channel 1: z-score (stretch to [0,1] for display only)\n",
    "z = ch1\n",
    "z_disp = (z - z.min()) / (z.max() - z.min() + 1e-6)\n",
    "axs[1].imshow(z_disp)\n",
    "axs[1].set_title(\"ch1: per-image z (stretched)\")\n",
    "axs[1].axis(\"off\")\n",
    "\n",
    "plt.tight_layout()\n",
    "plt.show()"
   ]
  },
  {
   "cell_type": "code",
   "execution_count": null,
   "id": "a7d3fea2",
   "metadata": {},
   "outputs": [],
   "source": []
  }
 ],
 "metadata": {
  "kernelspec": {
   "display_name": ".venv",
   "language": "python",
   "name": "python3"
  },
  "language_info": {
   "codemirror_mode": {
    "name": "ipython",
    "version": 3
   },
   "file_extension": ".py",
   "mimetype": "text/x-python",
   "name": "python",
   "nbconvert_exporter": "python",
   "pygments_lexer": "ipython3",
   "version": "3.11.9"
  }
 },
 "nbformat": 4,
 "nbformat_minor": 5
}
