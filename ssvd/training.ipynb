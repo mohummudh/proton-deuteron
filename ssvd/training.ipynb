{
 "cells": [
  {
   "cell_type": "code",
   "execution_count": 1,
   "id": "67941b42",
   "metadata": {},
   "outputs": [],
   "source": [
    "import json, os, math, random\n",
    "\n",
    "import numpy as np\n",
    "import pandas as pd\n",
    "import matplotlib.pyplot as plt\n",
    "from tqdm import tqdm\n",
    "\n",
    "import torch\n",
    "import torch.nn as nn\n",
    "import torch.nn.functional as F\n",
    "from torch.utils.data import Dataset, DataLoader"
   ]
  },
  {
   "cell_type": "code",
   "execution_count": 44,
   "id": "c2853520",
   "metadata": {},
   "outputs": [],
   "source": [
    "TRAINING = '/Users/user/data/research/proton-deuteron/ssvd/handpicked_d.pkl'"
   ]
  },
  {
   "cell_type": "markdown",
   "id": "aa1f870f",
   "metadata": {},
   "source": [
    "# TRAINING"
   ]
  },
  {
   "cell_type": "code",
   "execution_count": 75,
   "id": "264a175a",
   "metadata": {},
   "outputs": [],
   "source": [
    "IMG_H, IMG_W = 64, 96                   # TODO: NEED TO PRESERVE A SENSE OF LENGTH PROPERLY\n",
    "\n",
    "BATCH_SIZE = 128\n",
    "FEAT_DIM = 128\n",
    "LR = 3e-4\n",
    "EPOCHS = 10\n",
    "WEIGHT_DECAY = 1e-4                     # Learn about\n",
    "\n",
    "PCT_THR = 80                             # PERCENTILE THRESHOLD FOR DEFINING DEUTERONS IN FEATURE SPACE\n",
    "\n",
    "SEED = 0\n",
    "\n",
    "OUT_DIR = \"artifacts\"\n",
    "os.makedirs(OUT_DIR, exist_ok=True)"
   ]
  },
  {
   "cell_type": "code",
   "execution_count": 66,
   "id": "c955283c",
   "metadata": {},
   "outputs": [],
   "source": [
    "random.seed(SEED); np.random.seed(SEED)\n",
    "torch.manual_seed(SEED); torch.cuda.manual_seed_all(SEED)\n",
    "torch.mps.manual_seed(SEED)"
   ]
  },
  {
   "cell_type": "code",
   "execution_count": 67,
   "id": "a50a1b10",
   "metadata": {},
   "outputs": [],
   "source": [
    "class DeutTrain(Dataset):\n",
    "    def __init__(self, df, global_max_adc):\n",
    "        self.df = df.reset_index(drop=True)\n",
    "        self.gmax = float(global_max_adc)\n",
    "\n",
    "    def __len__(self):\n",
    "        return len(self.df)\n",
    "    \n",
    "    def _to_fixed(self, img):\n",
    "        # TODO: NEED TO PRESERVE A SENSE OF LENGTH PROPERLY\n",
    "        h, w, = img.shape\n",
    "        out = np.zeros((IMG_H, IMG_W), dtype=np.float32)\n",
    "        h0 = min(h, IMG_H)\n",
    "        w0 = min(w, IMG_W)\n",
    "        out[:h0, :w0] = img[:h0, :w0]\n",
    "        return out\n",
    "    \n",
    "    def __getitem__(self, i):\n",
    "        arr = np.asarray(self.df.loc[i, 'image_intensity'], dtype=np.float32)\n",
    "        x = self._to_fixed(arr)\n",
    "\n",
    "        ch0 = x / (self.gmax + 1e-6)\n",
    "        \n",
    "        mu, sd = float(x.mean()), float(x.std())\n",
    "        if sd < 1e-6: sd = 1e-6\n",
    "        ch1 = (x - mu) / sd\n",
    "\n",
    "        x2 = np.stack([ch0, ch1], axis=0)                                           # (2, H, W)\n",
    "\n",
    "        return torch.from_numpy(x2)"
   ]
  },
  {
   "cell_type": "code",
   "execution_count": 68,
   "id": "1e0745d1",
   "metadata": {},
   "outputs": [],
   "source": [
    "class DeutNet(nn.Module):\n",
    "    def __init__(self, in_ch=2, feat_dim=FEAT_DIM):\n",
    "        super().__init__()\n",
    "        self.conv = nn.Sequential(\n",
    "            nn.Conv2d(in_ch, 16, 3, 2, 1), nn.ReLU(),\n",
    "            nn.Conv2d(16, 32, 3, 2, 1), nn.ReLU(),\n",
    "            nn.Conv2d(32, 64, 3, 2, 1), nn.ReLU(),\n",
    "        )\n",
    "        self.fc = nn.Linear(64, feat_dim)\n",
    "\n",
    "    def forward(self, x):\n",
    "        x = self.conv(x)\n",
    "        x = F.adaptive_avg_pool2d(x, 1).flatten(1)\n",
    "        return self.fc(x)"
   ]
  },
  {
   "cell_type": "code",
   "execution_count": 69,
   "id": "9e510141",
   "metadata": {},
   "outputs": [
    {
     "name": "stdout",
     "output_type": "stream",
     "text": [
      "Device: mps\n",
      "Loading training dataset: /Users/user/data/research/proton-deuteron/ssvd/handpicked_d.pkl\n",
      "Global max ADC: 2342.0\n"
     ]
    }
   ],
   "source": [
    "device = torch.device(\"mps\" if torch.backends.mps.is_available() else \"cpu\")\n",
    "print('Device:', device)\n",
    "\n",
    "print('Loading training dataset:', TRAINING)\n",
    "df = pd.read_pickle(TRAINING)\n",
    "\n",
    "global_max_adc = 2342.0                                                         # or try 1713.0 from the training data\n",
    "\n",
    "print('Global max ADC:', global_max_adc)\n",
    "\n",
    "ds = DeutTrain(df, global_max_adc)\n",
    "dl = DataLoader(ds, batch_size=BATCH_SIZE, shuffle=True, num_workers=0, pin_memory=True)\n",
    "\n",
    "model = DeutNet().to(device)\n",
    "opt   = torch.optim.Adam(model.parameters(), lr=LR, weight_decay=WEIGHT_DECAY)"
   ]
  },
  {
   "cell_type": "code",
   "execution_count": 70,
   "id": "2b3c77a8",
   "metadata": {},
   "outputs": [
    {
     "name": "stderr",
     "output_type": "stream",
     "text": [
      "Init centre:   0%|          | 0/5 [00:00<?, ?it/s]/Users/user/code/research/proton-deuteron/.venv/lib/python3.11/site-packages/torch/utils/data/dataloader.py:683: UserWarning: 'pin_memory' argument is set as true but not supported on MPS now, then device pinned memory won't be used.\n",
      "  warnings.warn(warn_msg)\n",
      "Init centre: 100%|██████████| 5/5 [00:00<00:00, 157.42it/s]\n"
     ]
    }
   ],
   "source": [
    "model.eval()\n",
    "feats = []\n",
    "with torch.no_grad():\n",
    "    for batch in tqdm(dl, desc='Init centre'):\n",
    "        batch = batch.to(device, non_blocking=True)\n",
    "        feats.append(model(batch))\n",
    "\n",
    "feats = torch.cat(feats, dim=0)\n",
    "centre = feats.mean(dim=0).detach()"
   ]
  },
  {
   "cell_type": "code",
   "execution_count": 71,
   "id": "e8065ea1",
   "metadata": {},
   "outputs": [
    {
     "name": "stdout",
     "output_type": "stream",
     "text": [
      "Epoch 001/10 loss=0.00000609\n",
      "Epoch 002/10 loss=0.00000501\n",
      "Epoch 003/10 loss=0.00000387\n",
      "Epoch 004/10 loss=0.00000317\n",
      "Epoch 005/10 loss=0.00000253\n",
      "Epoch 006/10 loss=0.00000222\n",
      "Epoch 007/10 loss=0.00000190\n",
      "Epoch 008/10 loss=0.00000162\n",
      "Epoch 009/10 loss=0.00000144\n",
      "Epoch 010/10 loss=0.00000129\n"
     ]
    }
   ],
   "source": [
    "for epoch in range(1, EPOCHS+1):\n",
    "    model.train()\n",
    "    running = 0.0\n",
    "    n = 0\n",
    "    for batch in dl:\n",
    "        batch = batch.to(device, non_blocking=True)\n",
    "        f = model(batch)\n",
    "        loss = ((f - centre) ** 2).mean()\n",
    "        opt.zero_grad()\n",
    "        loss.backward()\n",
    "        opt.step()\n",
    "        bs = batch.size(0)\n",
    "        running += loss.item() * bs\n",
    "        n += bs\n",
    "    print(f'Epoch {epoch:03d}/{EPOCHS} loss={running/n:.8f}')"
   ]
  },
  {
   "cell_type": "code",
   "execution_count": 76,
   "id": "ffec6d19",
   "metadata": {},
   "outputs": [
    {
     "name": "stdout",
     "output_type": "stream",
     "text": [
      "Chosen threshold @ P80.0 = 0.013090\n"
     ]
    }
   ],
   "source": [
    "model.eval()\n",
    "train_dists = []\n",
    "with torch.no_grad():\n",
    "    for batch in DataLoader(ds, batch_size=BATCH_SIZE, shuffle=False):\n",
    "        batch = batch.to(device)\n",
    "        d = torch.norm(model(batch) - centre, dim=1)\n",
    "        train_dists.extend(d.cpu().numpy())\n",
    "    train_dists = np.asarray(train_dists, dtype=np.float32)\n",
    "\n",
    "    thr = float(np.percentile(train_dists, PCT_THR))\n",
    "    print(f'Chosen threshold @ P{PCT_THR:.1f} = {thr:.6f}')"
   ]
  },
  {
   "cell_type": "code",
   "execution_count": 77,
   "id": "91207910",
   "metadata": {},
   "outputs": [
    {
     "name": "stdout",
     "output_type": "stream",
     "text": [
      "Saved to artifacts\n"
     ]
    }
   ],
   "source": [
    "torch.save(model.state_dict(), os.path.join(OUT_DIR, 'svdd.pt'))\n",
    "np.save(os.path.join(OUT_DIR, 'centre.npy'), centre.detach().cpu().numpy())\n",
    "meta = {\n",
    "    'img_h': IMG_H, 'img_w': IMG_W,\n",
    "    'feat_dim': FEAT_DIM,\n",
    "    'global_max_adc': float(global_max_adc),\n",
    "    'threshold': thr,\n",
    "    'percentile': PCT_THR,\n",
    "    'seed': SEED\n",
    "}\n",
    "with open(os.path.join(OUT_DIR, 'threshold.json'), 'w') as f:\n",
    "    json.dump(meta, f, indent=2)\n",
    "print('Saved to', OUT_DIR)"
   ]
  },
  {
   "cell_type": "code",
   "execution_count": null,
   "id": "52ac9800",
   "metadata": {},
   "outputs": [],
   "source": []
  },
  {
   "cell_type": "code",
   "execution_count": null,
   "id": "bd6a74f9",
   "metadata": {},
   "outputs": [],
   "source": []
  },
  {
   "cell_type": "code",
   "execution_count": null,
   "id": "696a24a0",
   "metadata": {},
   "outputs": [],
   "source": []
  },
  {
   "cell_type": "code",
   "execution_count": 78,
   "id": "aa2d4adf",
   "metadata": {},
   "outputs": [
    {
     "data": {
      "image/png": "[encoded data removed]",
      "text/plain": [
       "<Figure size 700x400 with 1 Axes>"
      ]
     },
     "metadata": {},
     "output_type": "display_data"
    }
   ],
   "source": [
    "import numpy as np, pandas as pd, matplotlib.pyplot as plt\n",
    "\n",
    "# If df is already in memory with the column \"score\"\n",
    "scores = train_dists.astype(float)\n",
    "\n",
    "# bins = np.linspace(scores.min(), np.percentile(scores, 99.9), 200)\n",
    "\n",
    "plt.figure(figsize=(7,4))\n",
    "plt.hist(scores, bins='auto', alpha=0.8)\n",
    "plt.axvline(thr, ls=\"--\", lw=2, color='r', label='Threshold')\n",
    "plt.xlabel(\"Deep-SVDD distance\")\n",
    "plt.ylabel(\"count\")\n",
    "plt.title(\"All clusters — distance histogram\")\n",
    "plt.legend()\n",
    "plt.tight_layout(); plt.show()\n"
   ]
  },
  {
   "cell_type": "code",
   "execution_count": 31,
   "id": "d40d80be",
   "metadata": {},
   "outputs": [
    {
     "data": {
      "image/png": "[encoded data removed]",
      "text/plain": [
       "<Figure size 800x400 with 2 Axes>"
      ]
     },
     "metadata": {},
     "output_type": "display_data"
    }
   ],
   "source": [
    "i = 0                      # random.randint(0, 500)  \n",
    "x = ds[i]                 # shape: (2, H, W), on CPU\n",
    "ch0 = x[0].numpy()\n",
    "ch1 = x[1].numpy()\n",
    "\n",
    "fig, axs = plt.subplots(1, 2, figsize=(8, 4))\n",
    "\n",
    "# Channel 0: scaled absolute ADC\n",
    "axs[0].imshow(ch0, vmin=0.0, vmax=1.0)\n",
    "axs[0].set_title(\"ch0: abs ADC / global_max\")\n",
    "axs[0].axis(\"off\")\n",
    "\n",
    "# Channel 1: z-score (stretch to [0,1] for display only)\n",
    "z = ch1\n",
    "z_disp = (z - z.min()) / (z.max() - z.min() + 1e-6)\n",
    "axs[1].imshow(z_disp)\n",
    "axs[1].set_title(\"ch1: per-image z (stretched)\")\n",
    "axs[1].axis(\"off\")\n",
    "\n",
    "plt.tight_layout()\n",
    "plt.show()"
   ]
  },
  {
   "cell_type": "code",
   "execution_count": null,
   "id": "a7d3fea2",
   "metadata": {},
   "outputs": [],
   "source": []
  },
  {
   "cell_type": "code",
   "execution_count": null,
   "id": "ca690f47",
   "metadata": {},
   "outputs": [],
   "source": []
  }
 ],
 "metadata": {
  "kernelspec": {
   "display_name": ".venv",
   "language": "python",
   "name": "python3"
  },
  "language_info": {
   "codemirror_mode": {
    "name": "ipython",
    "version": 3
   },
   "file_extension": ".py",
   "mimetype": "text/x-python",
   "name": "python",
   "nbconvert_exporter": "python",
   "pygments_lexer": "ipython3",
   "version": "3.11.9"
  }
 },
 "nbformat": 4,
 "nbformat_minor": 5
}
